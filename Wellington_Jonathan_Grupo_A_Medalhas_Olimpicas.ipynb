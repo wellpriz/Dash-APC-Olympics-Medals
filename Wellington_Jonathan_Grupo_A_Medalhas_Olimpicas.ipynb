{
  "cells": [
    {
      "cell_type": "markdown",
      "metadata": {
        "id": "u9uCmN31y3xb"
      },
      "source": [
        "# Grupo A - Medalhas Olímpicas"
      ]
    },
    {
      "cell_type": "markdown",
      "metadata": {
        "id": "uXtoyLG4zBS0"
      },
      "source": [
        "## Membros\n",
        "\n",
        "|Matrícula|Nome Completo|\n",
        "|:---|:---|\n",
        "|211061411|André Raposo Rocha|\n",
        "|202016300|Gabriel Vieira Santos|\n",
        "|211061930|João Lucas Ramos|\n",
        "|211061940|João Pedro Ferreira Alves|\n",
        "|221029258|Letícia Oliveira Ribeiro|\n",
        "|211041259|Maria Eduarda Vieira Rocha|\n",
        "|221008660|Matheus Rodrigues de Paula Borges|\n",
        "|202024025|Victor da Costa Araujo|\n",
        "|202017147|Thales Germano Vargas Lima|\n",
        "|190048760|Wellington Jonathan de Souza Rodrigues|"
      ]
    },
    {
      "cell_type": "markdown",
      "metadata": {
        "id": "W4qE8DvGzq9j"
      },
      "source": [
        "## Objetivo\n",
        "Apresentar ao público uma visão ampla e analítica sobre dados relacionados aos Jogos Olímpicos de 1896 a 2016, especificamente sobre as medalhas distribuídas neste período."
      ]
    },
    {
      "cell_type": "markdown",
      "metadata": {
        "id": "6TJDVxjE0P5k"
      },
      "source": [
        "# Bases de Dados\n",
        "|Nome|Descrição|Fonte|\n",
        "|:---|:---|:---|\n",
        "|[Base 1](https://www.kaggle.com/datasets/surajjha101/countries-olympics-medals-since-1896)|Countries Olympics Medals since 1896|kaggle|\n",
        "|[Base 2](https://www.kaggle.com/datasets/mysarahmadbhat/120-years-of-olympic-history)|\"120 Years of Olympic History\"|kaggle|"
      ]
    },
    {
      "cell_type": "markdown",
      "metadata": {
        "id": "ZSjQytb62Jg7"
      },
      "source": [
        "### Instalando Bibliotecas e Importes"
      ]
    },
    {
      "cell_type": "code",
      "execution_count": 2,
      "metadata": {
        "colab": {
          "base_uri": "https://localhost:8080/"
        },
        "id": "yW9k-3VFgbvg",
        "outputId": "07502666-90cd-4c33-876c-0d36213dfc7e"
      },
      "outputs": [
        {
          "name": "stdout",
          "output_type": "stream",
          "text": [
            "Requirement already satisfied: pandas in c:\\users\\well\\appdata\\local\\programs\\python\\python310\\lib\\site-packages (1.4.4)"
          ]
        },
        {
          "name": "stderr",
          "output_type": "stream",
          "text": [
            "WARNING: You are using pip version 22.0.4; however, version 22.2.2 is available.\n",
            "You should consider upgrading via the 'C:\\Users\\well\\AppData\\Local\\Programs\\Python\\Python310\\python.exe -m pip install --upgrade pip' command.\n"
          ]
        },
        {
          "name": "stdout",
          "output_type": "stream",
          "text": [
            "\n",
            "Requirement already satisfied: numpy>=1.21.0 in c:\\users\\well\\appdata\\local\\programs\\python\\python310\\lib\\site-packages (from pandas) (1.23.3)\n",
            "Requirement already satisfied: python-dateutil>=2.8.1 in c:\\users\\well\\appdata\\local\\programs\\python\\python310\\lib\\site-packages (from pandas) (2.8.2)\n",
            "Requirement already satisfied: pytz>=2020.1 in c:\\users\\well\\appdata\\local\\programs\\python\\python310\\lib\\site-packages (from pandas) (2022.2.1)\n",
            "Requirement already satisfied: six>=1.5 in c:\\users\\well\\appdata\\local\\programs\\python\\python310\\lib\\site-packages (from python-dateutil>=2.8.1->pandas) (1.16.0)\n",
            "Requirement already satisfied: openpyxl in c:\\users\\well\\appdata\\local\\programs\\python\\python310\\lib\\site-packages (3.0.10)\n",
            "Requirement already satisfied: et-xmlfile in c:\\users\\well\\appdata\\local\\programs\\python\\python310\\lib\\site-packages (from openpyxl) (1.1.0)\n"
          ]
        },
        {
          "name": "stderr",
          "output_type": "stream",
          "text": [
            "WARNING: You are using pip version 22.0.4; however, version 22.2.2 is available.\n",
            "You should consider upgrading via the 'C:\\Users\\well\\AppData\\Local\\Programs\\Python\\Python310\\python.exe -m pip install --upgrade pip' command.\n"
          ]
        },
        {
          "name": "stdout",
          "output_type": "stream",
          "text": [
            "Requirement already satisfied: plotly in c:\\users\\well\\appdata\\local\\programs\\python\\python310\\lib\\site-packages (5.10.0)\n",
            "Requirement already satisfied: tenacity>=6.2.0 in c:\\users\\well\\appdata\\local\\programs\\python\\python310\\lib\\site-packages (from plotly) (8.0.1)\n"
          ]
        },
        {
          "name": "stderr",
          "output_type": "stream",
          "text": [
            "WARNING: You are using pip version 22.0.4; however, version 22.2.2 is available.\n",
            "You should consider upgrading via the 'C:\\Users\\well\\AppData\\Local\\Programs\\Python\\Python310\\python.exe -m pip install --upgrade pip' command.\n"
          ]
        },
        {
          "name": "stdout",
          "output_type": "stream",
          "text": [
            "Collecting Dash\n",
            "  Downloading dash-2.6.1-py3-none-any.whl (9.9 MB)\n",
            "     ---------------------------------------- 9.9/9.9 MB 4.9 MB/s eta 0:00:00\n",
            "Collecting Flask>=1.0.4\n",
            "  Downloading Flask-2.2.2-py3-none-any.whl (101 kB)\n",
            "     -------------------------------------- 101.5/101.5 KB 6.1 MB/s eta 0:00:00\n",
            "Requirement already satisfied: plotly>=5.0.0 in c:\\users\\well\\appdata\\local\\programs\\python\\python310\\lib\\site-packages (from Dash) (5.10.0)\n",
            "Collecting dash-core-components==2.0.0\n",
            "  Downloading dash_core_components-2.0.0-py3-none-any.whl (3.8 kB)\n",
            "Collecting dash-html-components==2.0.0\n",
            "  Downloading dash_html_components-2.0.0-py3-none-any.whl (4.1 kB)\n",
            "Collecting flask-compress\n",
            "  Downloading Flask_Compress-1.12-py3-none-any.whl (7.9 kB)\n",
            "Collecting dash-table==5.0.0\n",
            "  Downloading dash_table-5.0.0-py3-none-any.whl (3.9 kB)\n",
            "Requirement already satisfied: Jinja2>=3.0 in c:\\users\\well\\appdata\\local\\programs\\python\\python310\\lib\\site-packages (from Flask>=1.0.4->Dash) (3.1.1)\n",
            "Requirement already satisfied: click>=8.0 in c:\\users\\well\\appdata\\local\\programs\\python\\python310\\lib\\site-packages (from Flask>=1.0.4->Dash) (8.1.0)\n",
            "Collecting itsdangerous>=2.0\n",
            "  Downloading itsdangerous-2.1.2-py3-none-any.whl (15 kB)\n",
            "Collecting Werkzeug>=2.2.2\n",
            "  Downloading Werkzeug-2.2.2-py3-none-any.whl (232 kB)\n",
            "     -------------------------------------- 232.7/232.7 KB 3.6 MB/s eta 0:00:00\n",
            "Requirement already satisfied: tenacity>=6.2.0 in c:\\users\\well\\appdata\\local\\programs\\python\\python310\\lib\\site-packages (from plotly>=5.0.0->Dash) (8.0.1)\n",
            "Collecting brotli\n",
            "  Downloading Brotli-1.0.9-cp310-cp310-win_amd64.whl (383 kB)\n",
            "     ------------------------------------- 383.3/383.3 KB 12.0 MB/s eta 0:00:00\n",
            "Requirement already satisfied: colorama in c:\\users\\well\\appdata\\local\\programs\\python\\python310\\lib\\site-packages (from click>=8.0->Flask>=1.0.4->Dash) (0.4.4)\n",
            "Requirement already satisfied: MarkupSafe>=2.0 in c:\\users\\well\\appdata\\local\\programs\\python\\python310\\lib\\site-packages (from Jinja2>=3.0->Flask>=1.0.4->Dash) (2.1.1)\n",
            "Installing collected packages: dash-table, dash-html-components, dash-core-components, brotli, Werkzeug, itsdangerous, Flask, flask-compress, Dash\n",
            "Successfully installed Dash-2.6.1 Flask-2.2.2 Werkzeug-2.2.2 brotli-1.0.9 dash-core-components-2.0.0 dash-html-components-2.0.0 dash-table-5.0.0 flask-compress-1.12 itsdangerous-2.1.2\n"
          ]
        },
        {
          "name": "stderr",
          "output_type": "stream",
          "text": [
            "WARNING: You are using pip version 22.0.4; however, version 22.2.2 is available.\n",
            "You should consider upgrading via the 'C:\\Users\\well\\AppData\\Local\\Programs\\Python\\Python310\\python.exe -m pip install --upgrade pip' command.\n"
          ]
        }
      ],
      "source": [
        "! pip install pandas \n",
        "! pip install openpyxl\n",
        "! pip install plotly\n",
        "! pip install Dash\n",
        "\n"
      ]
    },
    {
      "cell_type": "code",
      "execution_count": null,
      "metadata": {
        "colab": {
          "base_uri": "https://localhost:8080/"
        },
        "id": "yW9k-3VFgbvg",
        "outputId": "07502666-90cd-4c33-876c-0d36213dfc7e"
      },
      "outputs": [
        {
          "name": "stdout",
          "output_type": "stream",
          "text": [
            "    countries  ioc_code   summer_participations  summer_gold  summer_silver  \\\n",
            "0  Afghanistan       AFG                     15            0              0   \n",
            "1      Algeria       ALG                     14            5              4   \n",
            "2    Argentina       ARG                     25           21             26   \n",
            "3      Armenia       ARM                      7            2              8   \n",
            "4  Australasia       ANZ                      2            3              4   \n",
            "5    Australia       AUS                     27          164            173   \n",
            "6      Austria       AUT                     28           20             35   \n",
            "7   Azerbaijan       AZE                      7            7             14   \n",
            "\n",
            "   summer_bronze  summer_total  winter_participations  winter_gold  \\\n",
            "0              2           2.0                      0            0   \n",
            "1              8          17.0                      3            0   \n",
            "2             30          77.0                     20            0   \n",
            "3              8          18.0                      8            0   \n",
            "4              5          12.0                      0            0   \n",
            "5            210         547.0                     20            6   \n",
            "6             41          96.0                     24           71   \n",
            "7             28          49.0                      7            0   \n",
            "\n",
            "   winter_silver  winter_bronze  winter_total  total_participation  \\\n",
            "0              0              0             0                   15   \n",
            "1              0              0             0                   17   \n",
            "2              0              0             0                   45   \n",
            "3              0              0             0                   15   \n",
            "4              0              0             0                    2   \n",
            "5              7              6            19                   47   \n",
            "6             88             91           250                   52   \n",
            "7              0              0             0                   14   \n",
            "\n",
            "   total_gold  total_silver  total_bronze  total_total      continente  \n",
            "0           0             0             2             2           Asia  \n",
            "1           5             4             8            17         Africa  \n",
            "2          21            26            30            77  South America  \n",
            "3           2             8             8            18           Asia  \n",
            "4           3             4             5            12        Oceania  \n",
            "5         170           180           216           566        Oceania  \n",
            "6          91           123           132           346         Europe  \n",
            "7           7            14            28            49         Europe  \n"
          ]
        }
      ],
      "source": [
        "import pandas as pd\n",
        "\n",
        "data = pd.read_csv('medalhaspaises.csv')\n",
        "df = pd.DataFrame(data)\n",
        "print(df.head(8))"
      ]
    },
    {
      "cell_type": "markdown",
      "metadata": {
        "id": "ZSjQytb62Jg7"
      },
      "source": [
        "### Base 1"
      ]
    },
    {
      "cell_type": "code",
      "execution_count": 1,
      "metadata": {
        "colab": {
          "base_uri": "https://localhost:8080/"
        },
        "id": "yW9k-3VFgbvg",
        "outputId": "07502666-90cd-4c33-876c-0d36213dfc7e"
      },
      "outputs": [
        {
          "name": "stdout",
          "output_type": "stream",
          "text": [
            "    countries  ioc_code   summer_participations  summer_gold  summer_silver  \\\n",
            "0  Afghanistan       AFG                     15            0              0   \n",
            "1      Algeria       ALG                     14            5              4   \n",
            "2    Argentina       ARG                     25           21             26   \n",
            "3      Armenia       ARM                      7            2              8   \n",
            "4  Australasia       ANZ                      2            3              4   \n",
            "5    Australia       AUS                     27          164            173   \n",
            "6      Austria       AUT                     28           20             35   \n",
            "7   Azerbaijan       AZE                      7            7             14   \n",
            "\n",
            "   summer_bronze  summer_total  winter_participations  winter_gold  \\\n",
            "0              2           2.0                      0            0   \n",
            "1              8          17.0                      3            0   \n",
            "2             30          77.0                     20            0   \n",
            "3              8          18.0                      8            0   \n",
            "4              5          12.0                      0            0   \n",
            "5            210         547.0                     20            6   \n",
            "6             41          96.0                     24           71   \n",
            "7             28          49.0                      7            0   \n",
            "\n",
            "   winter_silver  winter_bronze  winter_total  total_participation  \\\n",
            "0              0              0             0                   15   \n",
            "1              0              0             0                   17   \n",
            "2              0              0             0                   45   \n",
            "3              0              0             0                   15   \n",
            "4              0              0             0                    2   \n",
            "5              7              6            19                   47   \n",
            "6             88             91           250                   52   \n",
            "7              0              0             0                   14   \n",
            "\n",
            "   total_gold  total_silver  total_bronze  total_total      continente  \n",
            "0           0             0             2             2           Asia  \n",
            "1           5             4             8            17         Africa  \n",
            "2          21            26            30            77  South America  \n",
            "3           2             8             8            18           Asia  \n",
            "4           3             4             5            12        Oceania  \n",
            "5         170           180           216           566        Oceania  \n",
            "6          91           123           132           346         Europe  \n",
            "7           7            14            28            49         Europe  \n"
          ]
        }
      ],
      "source": [
        "import pandas as pd\n",
        "\n",
        "data = pd.read_csv('medalhaspaises.csv')\n",
        "df = pd.DataFrame(data)\n",
        "print(df.head(8))"
      ]
    },
    {
      "cell_type": "markdown",
      "metadata": {
        "id": "eozy1LUP2m8C"
      },
      "source": [
        "### Base 2"
      ]
    },
    {
      "cell_type": "code",
      "execution_count": 11,
      "metadata": {
        "colab": {
          "base_uri": "https://localhost:8080/"
        },
        "id": "632uCtzD2m8X",
        "outputId": "cd164ce9-9ba9-49f2-d880-33f2796b9d73"
      },
      "outputs": [
        {
          "name": "stdout",
          "output_type": "stream",
          "text": [
            "   ID                      Name Sex   Age  Height  Weight            Team  \\\n",
            "0   1                 A Dijiang   M  24.0   180.0    80.0           China   \n",
            "1   2                  A Lamusi   M  23.0   170.0    60.0           China   \n",
            "2   3       Gunnar Nielsen Aaby   M  24.0     NaN     NaN         Denmark   \n",
            "3   4      Edgar Lindenau Aabye   M  34.0     NaN     NaN  Denmark/Sweden   \n",
            "4   5  Christine Jacoba Aaftink   F  21.0   185.0    82.0     Netherlands   \n",
            "\n",
            "   NOC        Games  Year  Season       City          Sport  \\\n",
            "0  CHN  1992 Summer  1992  Summer  Barcelona     Basketball   \n",
            "1  CHN  2012 Summer  2012  Summer     London           Judo   \n",
            "2  DEN  1920 Summer  1920  Summer  Antwerpen       Football   \n",
            "3  DEN  1900 Summer  1900  Summer      Paris     Tug-Of-War   \n",
            "4  NED  1988 Winter  1988  Winter    Calgary  Speed Skating   \n",
            "\n",
            "                              Event Medal  \n",
            "0       Basketball Men's Basketball   NaN  \n",
            "1      Judo Men's Extra-Lightweight   NaN  \n",
            "2           Football Men's Football   NaN  \n",
            "3       Tug-Of-War Men's Tug-Of-War  Gold  \n",
            "4  Speed Skating Women's 500 metres   NaN  \n"
          ]
        }
      ],
      "source": [
        "import pandas as pd\n",
        "data = pd.read_excel('./athlete_events.xlsx')\n",
        "df = pd.DataFrame(data)  \n",
        "print(df.head(5))"
      ]
    },
    {
      "cell_type": "markdown",
      "metadata": {
        "id": "ULNtQdiE2xH7"
      },
      "source": [
        "# Gráficos Escolhidos:\n",
        "\n",
        "1. 15 países com mais medalhas nas Olimpíadas de Inverno e Verão\n",
        "2. Número de medalhas por continente\n",
        "3. 15 países com mais medalhas de ouro\n",
        "4. Número de medalhas de ouro, prata e bronze conquistadas pelo Brasil\n",
        "5. 15 esportes em que o Brasil mais conquistou medalhas"
      ]
    },
    {
      "cell_type": "markdown",
      "metadata": {
        "id": "07pG8bip3PPb"
      },
      "source": [
        "##Gráfico 01: 15 países com mais medalhas nas Olimpíadas de Inverno e Verão\n",
        "\n",
        "Demonstrar os países com mais medalhas nas olimpíadas e a proporção das suas vitórias.\n",
        "\n"
      ]
    },
    {
      "cell_type": "code",
      "execution_count": 11,
      "metadata": {
        "colab": {
          "base_uri": "https://localhost:8080/",
          "height": 1000
        },
        "id": "vv2oEKrZ3mh8",
        "outputId": "93578015-7e79-4112-b568-ca013e9e85a9"
      },
      "outputs": [
        {
          "name": "stdout",
          "output_type": "stream",
          "text": [
            "['AFG', 'ALG', 'ARG', 'ARM', 'ANZ', 'AUS', 'AUT', 'AZE', 'BAH', 'BRN', 'BAR', 'BLR', 'BEL', 'BER', 'BOH', 'BOT', 'BRA', 'BWI', 'BUL', 'BUR', 'BDI', 'CMR', 'CAN', 'CHI', 'CHN', 'COL', 'CRC', 'CIV', 'CRO', 'CUB', 'CYP', 'CZE', 'TCH', 'DEN', 'DJI', 'DOM', 'ECU', 'EGY', 'ERI', 'EST', 'ETH', 'FIJ', 'FIN', 'FRA', 'GAB', 'GEO', 'GER', 'EUA', 'GDR', 'FRG', 'GHA', 'GBR', 'GRE', 'GRN', 'GUA', 'GUY', 'HAI', 'HKG', 'HUN', 'ISL', 'IND', 'INA', 'IRI', 'IRQ', 'IRL', 'ISR', 'ITA', 'JAM', 'JPN', 'JOR', 'KAZ', 'KEN', 'KOS', 'PRK', 'KOR', 'KUW', 'KGZ', 'LAT', 'LBN', 'LIE', 'LTU', 'LUX', 'MAS', 'MRI', 'MEX', 'MDA', 'MGL', 'MNE', 'MAR', 'MOZ', 'NAM', 'NED', 'AHO', 'NZL', 'NIG', 'NGR', 'MKD', 'NOR', 'PAK', 'PAN', 'PAR', 'PER', 'PHI', 'POL', 'POR', 'PUR', 'QAT', 'ROU', 'RUS', 'RU1', 'URS', 'EUN', 'OAR', 'ROC ', 'SMR', 'KSA', 'SAM', 'SEN', 'SRB', 'SCG', 'SGP', 'SVK', 'SLO', 'RSA', 'ESP', 'SRI', 'SUD', 'SUR', 'SWE', 'SUI', 'SYR', 'TPE', 'TJK', 'TAN', 'THA', 'TOG', 'TGA', 'TTO', 'TUN', 'TUR', 'TKM', 'UGA', 'UKR', 'UAE', 'USA', 'URU', 'UZB', 'VEN', 'VIE', 'ISV', 'YUG', 'ZAM', 'ZIM', 'IOA', 'IOP', 'ZZX']\n"
          ]
        },
        {
          "data": {
            "application/vnd.plotly.v1+json": {
              "config": {
                "plotlyServerURL": "https://plot.ly"
              },
              "data": [
                {
                  "domain": {
                    "x": [
                      0,
                      1
                    ],
                    "y": [
                      0,
                      1
                    ]
                  },
                  "hovertemplate": "label=%{label}<br>value=%{value}<extra></extra>",
                  "labels": [
                    "Great Britain",
                    "Germany",
                    "France",
                    "Italy",
                    "China",
                    "Sweden",
                    "Japan",
                    "Norway",
                    "Australia",
                    "Canada",
                    "Russia",
                    "Hungary",
                    "East Germany",
                    "Finland",
                    "Netherlands"
                  ],
                  "legendgroup": "",
                  "name": "",
                  "showlegend": true,
                  "type": "pie",
                  "values": [
                    950,
                    922,
                    889,
                    759,
                    711,
                    679,
                    573,
                    568,
                    566,
                    551,
                    546,
                    521,
                    519,
                    480,
                    469
                  ]
                }
              ],
              "layout": {
                "legend": {
                  "tracegroupgap": 0
                },
                "template": {
                  "data": {
                    "bar": [
                      {
                        "error_x": {
                          "color": "#2a3f5f"
                        },
                        "error_y": {
                          "color": "#2a3f5f"
                        },
                        "marker": {
                          "line": {
                            "color": "#E5ECF6",
                            "width": 0.5
                          },
                          "pattern": {
                            "fillmode": "overlay",
                            "size": 10,
                            "solidity": 0.2
                          }
                        },
                        "type": "bar"
                      }
                    ],
                    "barpolar": [
                      {
                        "marker": {
                          "line": {
                            "color": "#E5ECF6",
                            "width": 0.5
                          },
                          "pattern": {
                            "fillmode": "overlay",
                            "size": 10,
                            "solidity": 0.2
                          }
                        },
                        "type": "barpolar"
                      }
                    ],
                    "carpet": [
                      {
                        "aaxis": {
                          "endlinecolor": "#2a3f5f",
                          "gridcolor": "white",
                          "linecolor": "white",
                          "minorgridcolor": "white",
                          "startlinecolor": "#2a3f5f"
                        },
                        "baxis": {
                          "endlinecolor": "#2a3f5f",
                          "gridcolor": "white",
                          "linecolor": "white",
                          "minorgridcolor": "white",
                          "startlinecolor": "#2a3f5f"
                        },
                        "type": "carpet"
                      }
                    ],
                    "choropleth": [
                      {
                        "colorbar": {
                          "outlinewidth": 0,
                          "ticks": ""
                        },
                        "type": "choropleth"
                      }
                    ],
                    "contour": [
                      {
                        "colorbar": {
                          "outlinewidth": 0,
                          "ticks": ""
                        },
                        "colorscale": [
                          [
                            0,
                            "#0d0887"
                          ],
                          [
                            0.1111111111111111,
                            "#46039f"
                          ],
                          [
                            0.2222222222222222,
                            "#7201a8"
                          ],
                          [
                            0.3333333333333333,
                            "#9c179e"
                          ],
                          [
                            0.4444444444444444,
                            "#bd3786"
                          ],
                          [
                            0.5555555555555556,
                            "#d8576b"
                          ],
                          [
                            0.6666666666666666,
                            "#ed7953"
                          ],
                          [
                            0.7777777777777778,
                            "#fb9f3a"
                          ],
                          [
                            0.8888888888888888,
                            "#fdca26"
                          ],
                          [
                            1,
                            "#f0f921"
                          ]
                        ],
                        "type": "contour"
                      }
                    ],
                    "contourcarpet": [
                      {
                        "colorbar": {
                          "outlinewidth": 0,
                          "ticks": ""
                        },
                        "type": "contourcarpet"
                      }
                    ],
                    "heatmap": [
                      {
                        "colorbar": {
                          "outlinewidth": 0,
                          "ticks": ""
                        },
                        "colorscale": [
                          [
                            0,
                            "#0d0887"
                          ],
                          [
                            0.1111111111111111,
                            "#46039f"
                          ],
                          [
                            0.2222222222222222,
                            "#7201a8"
                          ],
                          [
                            0.3333333333333333,
                            "#9c179e"
                          ],
                          [
                            0.4444444444444444,
                            "#bd3786"
                          ],
                          [
                            0.5555555555555556,
                            "#d8576b"
                          ],
                          [
                            0.6666666666666666,
                            "#ed7953"
                          ],
                          [
                            0.7777777777777778,
                            "#fb9f3a"
                          ],
                          [
                            0.8888888888888888,
                            "#fdca26"
                          ],
                          [
                            1,
                            "#f0f921"
                          ]
                        ],
                        "type": "heatmap"
                      }
                    ],
                    "heatmapgl": [
                      {
                        "colorbar": {
                          "outlinewidth": 0,
                          "ticks": ""
                        },
                        "colorscale": [
                          [
                            0,
                            "#0d0887"
                          ],
                          [
                            0.1111111111111111,
                            "#46039f"
                          ],
                          [
                            0.2222222222222222,
                            "#7201a8"
                          ],
                          [
                            0.3333333333333333,
                            "#9c179e"
                          ],
                          [
                            0.4444444444444444,
                            "#bd3786"
                          ],
                          [
                            0.5555555555555556,
                            "#d8576b"
                          ],
                          [
                            0.6666666666666666,
                            "#ed7953"
                          ],
                          [
                            0.7777777777777778,
                            "#fb9f3a"
                          ],
                          [
                            0.8888888888888888,
                            "#fdca26"
                          ],
                          [
                            1,
                            "#f0f921"
                          ]
                        ],
                        "type": "heatmapgl"
                      }
                    ],
                    "histogram": [
                      {
                        "marker": {
                          "pattern": {
                            "fillmode": "overlay",
                            "size": 10,
                            "solidity": 0.2
                          }
                        },
                        "type": "histogram"
                      }
                    ],
                    "histogram2d": [
                      {
                        "colorbar": {
                          "outlinewidth": 0,
                          "ticks": ""
                        },
                        "colorscale": [
                          [
                            0,
                            "#0d0887"
                          ],
                          [
                            0.1111111111111111,
                            "#46039f"
                          ],
                          [
                            0.2222222222222222,
                            "#7201a8"
                          ],
                          [
                            0.3333333333333333,
                            "#9c179e"
                          ],
                          [
                            0.4444444444444444,
                            "#bd3786"
                          ],
                          [
                            0.5555555555555556,
                            "#d8576b"
                          ],
                          [
                            0.6666666666666666,
                            "#ed7953"
                          ],
                          [
                            0.7777777777777778,
                            "#fb9f3a"
                          ],
                          [
                            0.8888888888888888,
                            "#fdca26"
                          ],
                          [
                            1,
                            "#f0f921"
                          ]
                        ],
                        "type": "histogram2d"
                      }
                    ],
                    "histogram2dcontour": [
                      {
                        "colorbar": {
                          "outlinewidth": 0,
                          "ticks": ""
                        },
                        "colorscale": [
                          [
                            0,
                            "#0d0887"
                          ],
                          [
                            0.1111111111111111,
                            "#46039f"
                          ],
                          [
                            0.2222222222222222,
                            "#7201a8"
                          ],
                          [
                            0.3333333333333333,
                            "#9c179e"
                          ],
                          [
                            0.4444444444444444,
                            "#bd3786"
                          ],
                          [
                            0.5555555555555556,
                            "#d8576b"
                          ],
                          [
                            0.6666666666666666,
                            "#ed7953"
                          ],
                          [
                            0.7777777777777778,
                            "#fb9f3a"
                          ],
                          [
                            0.8888888888888888,
                            "#fdca26"
                          ],
                          [
                            1,
                            "#f0f921"
                          ]
                        ],
                        "type": "histogram2dcontour"
                      }
                    ],
                    "mesh3d": [
                      {
                        "colorbar": {
                          "outlinewidth": 0,
                          "ticks": ""
                        },
                        "type": "mesh3d"
                      }
                    ],
                    "parcoords": [
                      {
                        "line": {
                          "colorbar": {
                            "outlinewidth": 0,
                            "ticks": ""
                          }
                        },
                        "type": "parcoords"
                      }
                    ],
                    "pie": [
                      {
                        "automargin": true,
                        "type": "pie"
                      }
                    ],
                    "scatter": [
                      {
                        "fillpattern": {
                          "fillmode": "overlay",
                          "size": 10,
                          "solidity": 0.2
                        },
                        "type": "scatter"
                      }
                    ],
                    "scatter3d": [
                      {
                        "line": {
                          "colorbar": {
                            "outlinewidth": 0,
                            "ticks": ""
                          }
                        },
                        "marker": {
                          "colorbar": {
                            "outlinewidth": 0,
                            "ticks": ""
                          }
                        },
                        "type": "scatter3d"
                      }
                    ],
                    "scattercarpet": [
                      {
                        "marker": {
                          "colorbar": {
                            "outlinewidth": 0,
                            "ticks": ""
                          }
                        },
                        "type": "scattercarpet"
                      }
                    ],
                    "scattergeo": [
                      {
                        "marker": {
                          "colorbar": {
                            "outlinewidth": 0,
                            "ticks": ""
                          }
                        },
                        "type": "scattergeo"
                      }
                    ],
                    "scattergl": [
                      {
                        "marker": {
                          "colorbar": {
                            "outlinewidth": 0,
                            "ticks": ""
                          }
                        },
                        "type": "scattergl"
                      }
                    ],
                    "scattermapbox": [
                      {
                        "marker": {
                          "colorbar": {
                            "outlinewidth": 0,
                            "ticks": ""
                          }
                        },
                        "type": "scattermapbox"
                      }
                    ],
                    "scatterpolar": [
                      {
                        "marker": {
                          "colorbar": {
                            "outlinewidth": 0,
                            "ticks": ""
                          }
                        },
                        "type": "scatterpolar"
                      }
                    ],
                    "scatterpolargl": [
                      {
                        "marker": {
                          "colorbar": {
                            "outlinewidth": 0,
                            "ticks": ""
                          }
                        },
                        "type": "scatterpolargl"
                      }
                    ],
                    "scatterternary": [
                      {
                        "marker": {
                          "colorbar": {
                            "outlinewidth": 0,
                            "ticks": ""
                          }
                        },
                        "type": "scatterternary"
                      }
                    ],
                    "surface": [
                      {
                        "colorbar": {
                          "outlinewidth": 0,
                          "ticks": ""
                        },
                        "colorscale": [
                          [
                            0,
                            "#0d0887"
                          ],
                          [
                            0.1111111111111111,
                            "#46039f"
                          ],
                          [
                            0.2222222222222222,
                            "#7201a8"
                          ],
                          [
                            0.3333333333333333,
                            "#9c179e"
                          ],
                          [
                            0.4444444444444444,
                            "#bd3786"
                          ],
                          [
                            0.5555555555555556,
                            "#d8576b"
                          ],
                          [
                            0.6666666666666666,
                            "#ed7953"
                          ],
                          [
                            0.7777777777777778,
                            "#fb9f3a"
                          ],
                          [
                            0.8888888888888888,
                            "#fdca26"
                          ],
                          [
                            1,
                            "#f0f921"
                          ]
                        ],
                        "type": "surface"
                      }
                    ],
                    "table": [
                      {
                        "cells": {
                          "fill": {
                            "color": "#EBF0F8"
                          },
                          "line": {
                            "color": "white"
                          }
                        },
                        "header": {
                          "fill": {
                            "color": "#C8D4E3"
                          },
                          "line": {
                            "color": "white"
                          }
                        },
                        "type": "table"
                      }
                    ]
                  },
                  "layout": {
                    "annotationdefaults": {
                      "arrowcolor": "#2a3f5f",
                      "arrowhead": 0,
                      "arrowwidth": 1
                    },
                    "autotypenumbers": "strict",
                    "coloraxis": {
                      "colorbar": {
                        "outlinewidth": 0,
                        "ticks": ""
                      }
                    },
                    "colorscale": {
                      "diverging": [
                        [
                          0,
                          "#8e0152"
                        ],
                        [
                          0.1,
                          "#c51b7d"
                        ],
                        [
                          0.2,
                          "#de77ae"
                        ],
                        [
                          0.3,
                          "#f1b6da"
                        ],
                        [
                          0.4,
                          "#fde0ef"
                        ],
                        [
                          0.5,
                          "#f7f7f7"
                        ],
                        [
                          0.6,
                          "#e6f5d0"
                        ],
                        [
                          0.7,
                          "#b8e186"
                        ],
                        [
                          0.8,
                          "#7fbc41"
                        ],
                        [
                          0.9,
                          "#4d9221"
                        ],
                        [
                          1,
                          "#276419"
                        ]
                      ],
                      "sequential": [
                        [
                          0,
                          "#0d0887"
                        ],
                        [
                          0.1111111111111111,
                          "#46039f"
                        ],
                        [
                          0.2222222222222222,
                          "#7201a8"
                        ],
                        [
                          0.3333333333333333,
                          "#9c179e"
                        ],
                        [
                          0.4444444444444444,
                          "#bd3786"
                        ],
                        [
                          0.5555555555555556,
                          "#d8576b"
                        ],
                        [
                          0.6666666666666666,
                          "#ed7953"
                        ],
                        [
                          0.7777777777777778,
                          "#fb9f3a"
                        ],
                        [
                          0.8888888888888888,
                          "#fdca26"
                        ],
                        [
                          1,
                          "#f0f921"
                        ]
                      ],
                      "sequentialminus": [
                        [
                          0,
                          "#0d0887"
                        ],
                        [
                          0.1111111111111111,
                          "#46039f"
                        ],
                        [
                          0.2222222222222222,
                          "#7201a8"
                        ],
                        [
                          0.3333333333333333,
                          "#9c179e"
                        ],
                        [
                          0.4444444444444444,
                          "#bd3786"
                        ],
                        [
                          0.5555555555555556,
                          "#d8576b"
                        ],
                        [
                          0.6666666666666666,
                          "#ed7953"
                        ],
                        [
                          0.7777777777777778,
                          "#fb9f3a"
                        ],
                        [
                          0.8888888888888888,
                          "#fdca26"
                        ],
                        [
                          1,
                          "#f0f921"
                        ]
                      ]
                    },
                    "colorway": [
                      "#636efa",
                      "#EF553B",
                      "#00cc96",
                      "#ab63fa",
                      "#FFA15A",
                      "#19d3f3",
                      "#FF6692",
                      "#B6E880",
                      "#FF97FF",
                      "#FECB52"
                    ],
                    "font": {
                      "color": "#2a3f5f"
                    },
                    "geo": {
                      "bgcolor": "white",
                      "lakecolor": "white",
                      "landcolor": "#E5ECF6",
                      "showlakes": true,
                      "showland": true,
                      "subunitcolor": "white"
                    },
                    "hoverlabel": {
                      "align": "left"
                    },
                    "hovermode": "closest",
                    "mapbox": {
                      "style": "light"
                    },
                    "paper_bgcolor": "white",
                    "plot_bgcolor": "#E5ECF6",
                    "polar": {
                      "angularaxis": {
                        "gridcolor": "white",
                        "linecolor": "white",
                        "ticks": ""
                      },
                      "bgcolor": "#E5ECF6",
                      "radialaxis": {
                        "gridcolor": "white",
                        "linecolor": "white",
                        "ticks": ""
                      }
                    },
                    "scene": {
                      "xaxis": {
                        "backgroundcolor": "#E5ECF6",
                        "gridcolor": "white",
                        "gridwidth": 2,
                        "linecolor": "white",
                        "showbackground": true,
                        "ticks": "",
                        "zerolinecolor": "white"
                      },
                      "yaxis": {
                        "backgroundcolor": "#E5ECF6",
                        "gridcolor": "white",
                        "gridwidth": 2,
                        "linecolor": "white",
                        "showbackground": true,
                        "ticks": "",
                        "zerolinecolor": "white"
                      },
                      "zaxis": {
                        "backgroundcolor": "#E5ECF6",
                        "gridcolor": "white",
                        "gridwidth": 2,
                        "linecolor": "white",
                        "showbackground": true,
                        "ticks": "",
                        "zerolinecolor": "white"
                      }
                    },
                    "shapedefaults": {
                      "line": {
                        "color": "#2a3f5f"
                      }
                    },
                    "ternary": {
                      "aaxis": {
                        "gridcolor": "white",
                        "linecolor": "white",
                        "ticks": ""
                      },
                      "baxis": {
                        "gridcolor": "white",
                        "linecolor": "white",
                        "ticks": ""
                      },
                      "bgcolor": "#E5ECF6",
                      "caxis": {
                        "gridcolor": "white",
                        "linecolor": "white",
                        "ticks": ""
                      }
                    },
                    "title": {
                      "x": 0.05
                    },
                    "xaxis": {
                      "automargin": true,
                      "gridcolor": "white",
                      "linecolor": "white",
                      "ticks": "",
                      "title": {
                        "standoff": 15
                      },
                      "zerolinecolor": "white",
                      "zerolinewidth": 2
                    },
                    "yaxis": {
                      "automargin": true,
                      "gridcolor": "white",
                      "linecolor": "white",
                      "ticks": "",
                      "title": {
                        "standoff": 15
                      },
                      "zerolinecolor": "white",
                      "zerolinewidth": 2
                    }
                  }
                },
                "title": {
                  "text": "15 países com mais medalhas nas Olimpíadas de Inverno e Verão"
                }
              }
            }
          },
          "metadata": {},
          "output_type": "display_data"
        }
      ],
      "source": [
        "import pandas \n",
        "import plotly.express as px\n",
        "\n",
        "data = pandas.read_csv ('https://raw.githubusercontent.com/leticia-oliveira/Exercicios-de-APC-UnB/main/dashboard/datasets/medalhaspaises.csv')\n",
        "df = pandas.DataFrame(data)\n",
        "dados = df.values.tolist()#enumera as células como lista\n",
        "\n",
        "\n",
        "#print(dados[1])\n",
        "paises = []\n",
        "valores = []\n",
        "estrutura = [] \n",
        "\n",
        "for coluna in dados:\n",
        "  pais_valor = []   #lista que armazena o pais e o valor da repetição da coluna\n",
        "  pais_valor.append(coluna[0]) #coluna de paises\n",
        "  pais_valor.append(coluna[-2]) #coluna de valores totais\n",
        "  estrutura.append(pais_valor)\n",
        "\n",
        "                                 #lista de lista para armazenar pais e valor de todas iteraçoes \n",
        "                               #para ordenar baseado no parametro valor mantendo a conexão com o n\n",
        "def seleciona_valor(indice_estrutura): #buscando os valores de medalha relacionado a um pais\n",
        "  return indice_estrutura[1]           #e retorna o valor de medalhas como um criterio de ordenaçao\n",
        "\n",
        "estrutura.sort(reverse=True,key=seleciona_valor) #ordenando de forma decrescente atraves do atributo valor_total da lista\n",
        "\n",
        "for i in range(15):   #15 paises e 1 se5 valores\n",
        "  paises.append(estrutura[i][0]) #agrupando todos os paises\n",
        "  valores.append(estrutura[i][1]) #agrupando todos os valores de medalha\n",
        "#print(estrutura)\n",
        "fig = px.pie(df, values=valores, names=paises, title = \"15 países com mais medalhas nas Olimpíadas de Inverno e Verão\")\n",
        "fig.show()"
      ]
    },
    {
      "cell_type": "markdown",
      "metadata": {
        "id": "h4utRQfP3l6k"
      },
      "source": [
        "## Gráfico 02: Número de medalhas por continente\n",
        "\n",
        "O gráfico a seguir compara a quantidade de medalhas de ouro, prata e bronze dos continentes, além dos times mistos e independentes.\n",
        "\n"
      ]
    },
    {
      "cell_type": "code",
      "execution_count": 8,
      "metadata": {
        "colab": {
          "base_uri": "https://localhost:8080/",
          "height": 542
        },
        "id": "CkoCFwZxxIvW",
        "outputId": "b724d721-8dfc-4a33-fa9e-35a6d8ecce28"
      },
      "outputs": [
        {
          "data": {
            "application/vnd.plotly.v1+json": {
              "config": {
                "plotlyServerURL": "https://plot.ly"
              },
              "data": [
                {
                  "alignmentgroup": "True",
                  "hovertemplate": "<extra></extra>",
                  "legendgroup": "",
                  "marker": {
                    "color": "#636efa",
                    "pattern": {
                      "shape": ""
                    }
                  },
                  "name": "",
                  "offsetgroup": "",
                  "orientation": "v",
                  "showlegend": false,
                  "textposition": "auto",
                  "type": "bar",
                  "xaxis": "x",
                  "yaxis": "y"
                },
                {
                  "marker": {
                    "color": "#BBBFC9"
                  },
                  "name": "Medalhas de prata",
                  "text": [
                    "770",
                    "146",
                    "103",
                    "221",
                    "4065",
                    "1282",
                    "1",
                    "6"
                  ],
                  "textposition": "outside",
                  "texttemplate": "%{text:.2s}",
                  "type": "bar",
                  "x": [
                    "Asia",
                    "Africa",
                    "South America",
                    "Oceania",
                    "Europe",
                    "North America",
                    "Independent",
                    "Mixed"
                  ],
                  "y": [
                    770,
                    146,
                    103,
                    221,
                    4065,
                    1282,
                    1,
                    6
                  ]
                },
                {
                  "marker": {
                    "color": "#FFDF00"
                  },
                  "name": "Medalhas de ouro",
                  "text": [
                    "790",
                    "126",
                    "75",
                    "230",
                    "3935",
                    "1464",
                    "1",
                    "11"
                  ],
                  "textposition": "outside",
                  "texttemplate": "%{text:.2s}",
                  "type": "bar",
                  "x": [
                    "Asia",
                    "Africa",
                    "South America",
                    "Oceania",
                    "Europe",
                    "North America",
                    "Independent",
                    "Mixed"
                  ],
                  "y": [
                    790,
                    126,
                    75,
                    230,
                    3935,
                    1464,
                    1,
                    11
                  ]
                },
                {
                  "marker": {
                    "color": "#FFA366"
                  },
                  "name": "Medalhas de bronze",
                  "text": [
                    "855",
                    "168",
                    "138",
                    "275",
                    "4373",
                    "1234",
                    "3",
                    "8"
                  ],
                  "textposition": "outside",
                  "texttemplate": "%{text:.2s}",
                  "type": "bar",
                  "x": [
                    "Asia",
                    "Africa",
                    "South America",
                    "Oceania",
                    "Europe",
                    "North America",
                    "Independent",
                    "Mixed"
                  ],
                  "y": [
                    855,
                    168,
                    138,
                    275,
                    4373,
                    1234,
                    3,
                    8
                  ]
                }
              ],
              "layout": {
                "bargroupgap": 0.1,
                "barmode": "group",
                "images": [
                  {
                    "layer": "below",
                    "opacity": 0.3,
                    "sizex": 4500,
                    "sizey": 4500,
                    "source": "https://cdn-icons-png.flaticon.com/512/523/523676.png",
                    "x": 0.25,
                    "xref": "x",
                    "y": 4590,
                    "yref": "y"
                  }
                ],
                "legend": {
                  "tracegroupgap": 0,
                  "x": 0.87,
                  "y": 0.5
                },
                "margin": {
                  "t": 60
                },
                "template": {
                  "data": {
                    "bar": [
                      {
                        "error_x": {
                          "color": "#2a3f5f"
                        },
                        "error_y": {
                          "color": "#2a3f5f"
                        },
                        "marker": {
                          "line": {
                            "color": "white",
                            "width": 0.5
                          },
                          "pattern": {
                            "fillmode": "overlay",
                            "size": 10,
                            "solidity": 0.2
                          }
                        },
                        "type": "bar"
                      }
                    ],
                    "barpolar": [
                      {
                        "marker": {
                          "line": {
                            "color": "white",
                            "width": 0.5
                          },
                          "pattern": {
                            "fillmode": "overlay",
                            "size": 10,
                            "solidity": 0.2
                          }
                        },
                        "type": "barpolar"
                      }
                    ],
                    "carpet": [
                      {
                        "aaxis": {
                          "endlinecolor": "#2a3f5f",
                          "gridcolor": "#C8D4E3",
                          "linecolor": "#C8D4E3",
                          "minorgridcolor": "#C8D4E3",
                          "startlinecolor": "#2a3f5f"
                        },
                        "baxis": {
                          "endlinecolor": "#2a3f5f",
                          "gridcolor": "#C8D4E3",
                          "linecolor": "#C8D4E3",
                          "minorgridcolor": "#C8D4E3",
                          "startlinecolor": "#2a3f5f"
                        },
                        "type": "carpet"
                      }
                    ],
                    "choropleth": [
                      {
                        "colorbar": {
                          "outlinewidth": 0,
                          "ticks": ""
                        },
                        "type": "choropleth"
                      }
                    ],
                    "contour": [
                      {
                        "colorbar": {
                          "outlinewidth": 0,
                          "ticks": ""
                        },
                        "colorscale": [
                          [
                            0,
                            "#0d0887"
                          ],
                          [
                            0.1111111111111111,
                            "#46039f"
                          ],
                          [
                            0.2222222222222222,
                            "#7201a8"
                          ],
                          [
                            0.3333333333333333,
                            "#9c179e"
                          ],
                          [
                            0.4444444444444444,
                            "#bd3786"
                          ],
                          [
                            0.5555555555555556,
                            "#d8576b"
                          ],
                          [
                            0.6666666666666666,
                            "#ed7953"
                          ],
                          [
                            0.7777777777777778,
                            "#fb9f3a"
                          ],
                          [
                            0.8888888888888888,
                            "#fdca26"
                          ],
                          [
                            1,
                            "#f0f921"
                          ]
                        ],
                        "type": "contour"
                      }
                    ],
                    "contourcarpet": [
                      {
                        "colorbar": {
                          "outlinewidth": 0,
                          "ticks": ""
                        },
                        "type": "contourcarpet"
                      }
                    ],
                    "heatmap": [
                      {
                        "colorbar": {
                          "outlinewidth": 0,
                          "ticks": ""
                        },
                        "colorscale": [
                          [
                            0,
                            "#0d0887"
                          ],
                          [
                            0.1111111111111111,
                            "#46039f"
                          ],
                          [
                            0.2222222222222222,
                            "#7201a8"
                          ],
                          [
                            0.3333333333333333,
                            "#9c179e"
                          ],
                          [
                            0.4444444444444444,
                            "#bd3786"
                          ],
                          [
                            0.5555555555555556,
                            "#d8576b"
                          ],
                          [
                            0.6666666666666666,
                            "#ed7953"
                          ],
                          [
                            0.7777777777777778,
                            "#fb9f3a"
                          ],
                          [
                            0.8888888888888888,
                            "#fdca26"
                          ],
                          [
                            1,
                            "#f0f921"
                          ]
                        ],
                        "type": "heatmap"
                      }
                    ],
                    "heatmapgl": [
                      {
                        "colorbar": {
                          "outlinewidth": 0,
                          "ticks": ""
                        },
                        "colorscale": [
                          [
                            0,
                            "#0d0887"
                          ],
                          [
                            0.1111111111111111,
                            "#46039f"
                          ],
                          [
                            0.2222222222222222,
                            "#7201a8"
                          ],
                          [
                            0.3333333333333333,
                            "#9c179e"
                          ],
                          [
                            0.4444444444444444,
                            "#bd3786"
                          ],
                          [
                            0.5555555555555556,
                            "#d8576b"
                          ],
                          [
                            0.6666666666666666,
                            "#ed7953"
                          ],
                          [
                            0.7777777777777778,
                            "#fb9f3a"
                          ],
                          [
                            0.8888888888888888,
                            "#fdca26"
                          ],
                          [
                            1,
                            "#f0f921"
                          ]
                        ],
                        "type": "heatmapgl"
                      }
                    ],
                    "histogram": [
                      {
                        "marker": {
                          "pattern": {
                            "fillmode": "overlay",
                            "size": 10,
                            "solidity": 0.2
                          }
                        },
                        "type": "histogram"
                      }
                    ],
                    "histogram2d": [
                      {
                        "colorbar": {
                          "outlinewidth": 0,
                          "ticks": ""
                        },
                        "colorscale": [
                          [
                            0,
                            "#0d0887"
                          ],
                          [
                            0.1111111111111111,
                            "#46039f"
                          ],
                          [
                            0.2222222222222222,
                            "#7201a8"
                          ],
                          [
                            0.3333333333333333,
                            "#9c179e"
                          ],
                          [
                            0.4444444444444444,
                            "#bd3786"
                          ],
                          [
                            0.5555555555555556,
                            "#d8576b"
                          ],
                          [
                            0.6666666666666666,
                            "#ed7953"
                          ],
                          [
                            0.7777777777777778,
                            "#fb9f3a"
                          ],
                          [
                            0.8888888888888888,
                            "#fdca26"
                          ],
                          [
                            1,
                            "#f0f921"
                          ]
                        ],
                        "type": "histogram2d"
                      }
                    ],
                    "histogram2dcontour": [
                      {
                        "colorbar": {
                          "outlinewidth": 0,
                          "ticks": ""
                        },
                        "colorscale": [
                          [
                            0,
                            "#0d0887"
                          ],
                          [
                            0.1111111111111111,
                            "#46039f"
                          ],
                          [
                            0.2222222222222222,
                            "#7201a8"
                          ],
                          [
                            0.3333333333333333,
                            "#9c179e"
                          ],
                          [
                            0.4444444444444444,
                            "#bd3786"
                          ],
                          [
                            0.5555555555555556,
                            "#d8576b"
                          ],
                          [
                            0.6666666666666666,
                            "#ed7953"
                          ],
                          [
                            0.7777777777777778,
                            "#fb9f3a"
                          ],
                          [
                            0.8888888888888888,
                            "#fdca26"
                          ],
                          [
                            1,
                            "#f0f921"
                          ]
                        ],
                        "type": "histogram2dcontour"
                      }
                    ],
                    "mesh3d": [
                      {
                        "colorbar": {
                          "outlinewidth": 0,
                          "ticks": ""
                        },
                        "type": "mesh3d"
                      }
                    ],
                    "parcoords": [
                      {
                        "line": {
                          "colorbar": {
                            "outlinewidth": 0,
                            "ticks": ""
                          }
                        },
                        "type": "parcoords"
                      }
                    ],
                    "pie": [
                      {
                        "automargin": true,
                        "type": "pie"
                      }
                    ],
                    "scatter": [
                      {
                        "fillpattern": {
                          "fillmode": "overlay",
                          "size": 10,
                          "solidity": 0.2
                        },
                        "type": "scatter"
                      }
                    ],
                    "scatter3d": [
                      {
                        "line": {
                          "colorbar": {
                            "outlinewidth": 0,
                            "ticks": ""
                          }
                        },
                        "marker": {
                          "colorbar": {
                            "outlinewidth": 0,
                            "ticks": ""
                          }
                        },
                        "type": "scatter3d"
                      }
                    ],
                    "scattercarpet": [
                      {
                        "marker": {
                          "colorbar": {
                            "outlinewidth": 0,
                            "ticks": ""
                          }
                        },
                        "type": "scattercarpet"
                      }
                    ],
                    "scattergeo": [
                      {
                        "marker": {
                          "colorbar": {
                            "outlinewidth": 0,
                            "ticks": ""
                          }
                        },
                        "type": "scattergeo"
                      }
                    ],
                    "scattergl": [
                      {
                        "marker": {
                          "colorbar": {
                            "outlinewidth": 0,
                            "ticks": ""
                          }
                        },
                        "type": "scattergl"
                      }
                    ],
                    "scattermapbox": [
                      {
                        "marker": {
                          "colorbar": {
                            "outlinewidth": 0,
                            "ticks": ""
                          }
                        },
                        "type": "scattermapbox"
                      }
                    ],
                    "scatterpolar": [
                      {
                        "marker": {
                          "colorbar": {
                            "outlinewidth": 0,
                            "ticks": ""
                          }
                        },
                        "type": "scatterpolar"
                      }
                    ],
                    "scatterpolargl": [
                      {
                        "marker": {
                          "colorbar": {
                            "outlinewidth": 0,
                            "ticks": ""
                          }
                        },
                        "type": "scatterpolargl"
                      }
                    ],
                    "scatterternary": [
                      {
                        "marker": {
                          "colorbar": {
                            "outlinewidth": 0,
                            "ticks": ""
                          }
                        },
                        "type": "scatterternary"
                      }
                    ],
                    "surface": [
                      {
                        "colorbar": {
                          "outlinewidth": 0,
                          "ticks": ""
                        },
                        "colorscale": [
                          [
                            0,
                            "#0d0887"
                          ],
                          [
                            0.1111111111111111,
                            "#46039f"
                          ],
                          [
                            0.2222222222222222,
                            "#7201a8"
                          ],
                          [
                            0.3333333333333333,
                            "#9c179e"
                          ],
                          [
                            0.4444444444444444,
                            "#bd3786"
                          ],
                          [
                            0.5555555555555556,
                            "#d8576b"
                          ],
                          [
                            0.6666666666666666,
                            "#ed7953"
                          ],
                          [
                            0.7777777777777778,
                            "#fb9f3a"
                          ],
                          [
                            0.8888888888888888,
                            "#fdca26"
                          ],
                          [
                            1,
                            "#f0f921"
                          ]
                        ],
                        "type": "surface"
                      }
                    ],
                    "table": [
                      {
                        "cells": {
                          "fill": {
                            "color": "#EBF0F8"
                          },
                          "line": {
                            "color": "white"
                          }
                        },
                        "header": {
                          "fill": {
                            "color": "#C8D4E3"
                          },
                          "line": {
                            "color": "white"
                          }
                        },
                        "type": "table"
                      }
                    ]
                  },
                  "layout": {
                    "annotationdefaults": {
                      "arrowcolor": "#2a3f5f",
                      "arrowhead": 0,
                      "arrowwidth": 1
                    },
                    "autotypenumbers": "strict",
                    "coloraxis": {
                      "colorbar": {
                        "outlinewidth": 0,
                        "ticks": ""
                      }
                    },
                    "colorscale": {
                      "diverging": [
                        [
                          0,
                          "#8e0152"
                        ],
                        [
                          0.1,
                          "#c51b7d"
                        ],
                        [
                          0.2,
                          "#de77ae"
                        ],
                        [
                          0.3,
                          "#f1b6da"
                        ],
                        [
                          0.4,
                          "#fde0ef"
                        ],
                        [
                          0.5,
                          "#f7f7f7"
                        ],
                        [
                          0.6,
                          "#e6f5d0"
                        ],
                        [
                          0.7,
                          "#b8e186"
                        ],
                        [
                          0.8,
                          "#7fbc41"
                        ],
                        [
                          0.9,
                          "#4d9221"
                        ],
                        [
                          1,
                          "#276419"
                        ]
                      ],
                      "sequential": [
                        [
                          0,
                          "#0d0887"
                        ],
                        [
                          0.1111111111111111,
                          "#46039f"
                        ],
                        [
                          0.2222222222222222,
                          "#7201a8"
                        ],
                        [
                          0.3333333333333333,
                          "#9c179e"
                        ],
                        [
                          0.4444444444444444,
                          "#bd3786"
                        ],
                        [
                          0.5555555555555556,
                          "#d8576b"
                        ],
                        [
                          0.6666666666666666,
                          "#ed7953"
                        ],
                        [
                          0.7777777777777778,
                          "#fb9f3a"
                        ],
                        [
                          0.8888888888888888,
                          "#fdca26"
                        ],
                        [
                          1,
                          "#f0f921"
                        ]
                      ],
                      "sequentialminus": [
                        [
                          0,
                          "#0d0887"
                        ],
                        [
                          0.1111111111111111,
                          "#46039f"
                        ],
                        [
                          0.2222222222222222,
                          "#7201a8"
                        ],
                        [
                          0.3333333333333333,
                          "#9c179e"
                        ],
                        [
                          0.4444444444444444,
                          "#bd3786"
                        ],
                        [
                          0.5555555555555556,
                          "#d8576b"
                        ],
                        [
                          0.6666666666666666,
                          "#ed7953"
                        ],
                        [
                          0.7777777777777778,
                          "#fb9f3a"
                        ],
                        [
                          0.8888888888888888,
                          "#fdca26"
                        ],
                        [
                          1,
                          "#f0f921"
                        ]
                      ]
                    },
                    "colorway": [
                      "#636efa",
                      "#EF553B",
                      "#00cc96",
                      "#ab63fa",
                      "#FFA15A",
                      "#19d3f3",
                      "#FF6692",
                      "#B6E880",
                      "#FF97FF",
                      "#FECB52"
                    ],
                    "font": {
                      "color": "#2a3f5f"
                    },
                    "geo": {
                      "bgcolor": "white",
                      "lakecolor": "white",
                      "landcolor": "white",
                      "showlakes": true,
                      "showland": true,
                      "subunitcolor": "#C8D4E3"
                    },
                    "hoverlabel": {
                      "align": "left"
                    },
                    "hovermode": "closest",
                    "mapbox": {
                      "style": "light"
                    },
                    "paper_bgcolor": "white",
                    "plot_bgcolor": "white",
                    "polar": {
                      "angularaxis": {
                        "gridcolor": "#EBF0F8",
                        "linecolor": "#EBF0F8",
                        "ticks": ""
                      },
                      "bgcolor": "white",
                      "radialaxis": {
                        "gridcolor": "#EBF0F8",
                        "linecolor": "#EBF0F8",
                        "ticks": ""
                      }
                    },
                    "scene": {
                      "xaxis": {
                        "backgroundcolor": "white",
                        "gridcolor": "#DFE8F3",
                        "gridwidth": 2,
                        "linecolor": "#EBF0F8",
                        "showbackground": true,
                        "ticks": "",
                        "zerolinecolor": "#EBF0F8"
                      },
                      "yaxis": {
                        "backgroundcolor": "white",
                        "gridcolor": "#DFE8F3",
                        "gridwidth": 2,
                        "linecolor": "#EBF0F8",
                        "showbackground": true,
                        "ticks": "",
                        "zerolinecolor": "#EBF0F8"
                      },
                      "zaxis": {
                        "backgroundcolor": "white",
                        "gridcolor": "#DFE8F3",
                        "gridwidth": 2,
                        "linecolor": "#EBF0F8",
                        "showbackground": true,
                        "ticks": "",
                        "zerolinecolor": "#EBF0F8"
                      }
                    },
                    "shapedefaults": {
                      "line": {
                        "color": "#2a3f5f"
                      }
                    },
                    "ternary": {
                      "aaxis": {
                        "gridcolor": "#DFE8F3",
                        "linecolor": "#A2B1C6",
                        "ticks": ""
                      },
                      "baxis": {
                        "gridcolor": "#DFE8F3",
                        "linecolor": "#A2B1C6",
                        "ticks": ""
                      },
                      "bgcolor": "white",
                      "caxis": {
                        "gridcolor": "#DFE8F3",
                        "linecolor": "#A2B1C6",
                        "ticks": ""
                      }
                    },
                    "title": {
                      "x": 0.05
                    },
                    "xaxis": {
                      "automargin": true,
                      "gridcolor": "#EBF0F8",
                      "linecolor": "#EBF0F8",
                      "ticks": "",
                      "title": {
                        "standoff": 15
                      },
                      "zerolinecolor": "#EBF0F8",
                      "zerolinewidth": 2
                    },
                    "yaxis": {
                      "automargin": true,
                      "gridcolor": "#EBF0F8",
                      "linecolor": "#EBF0F8",
                      "ticks": "",
                      "title": {
                        "standoff": 15
                      },
                      "zerolinecolor": "#EBF0F8",
                      "zerolinewidth": 2
                    }
                  }
                },
                "title": {
                  "text": "Continentes e suas medalhas olímpicas"
                },
                "xaxis": {
                  "anchor": "y",
                  "domain": [
                    0,
                    1
                  ],
                  "tickfont": {
                    "size": 14
                  }
                },
                "yaxis": {
                  "anchor": "x",
                  "domain": [
                    0,
                    1
                  ],
                  "tickfont": {
                    "size": 14
                  },
                  "title": {
                    "font": {
                      "size": 16
                    },
                    "text": "Quantidade de medalhas"
                  }
                }
              }
            }
          },
          "metadata": {},
          "output_type": "display_data"
        }
      ],
      "source": [
        "import plotly.express as px\n",
        "import pandas as pd\n",
        "import plotly.graph_objects as go\n",
        "import plotly.io as pio\n",
        "\n",
        "#importa/lê a base de dados\n",
        "df = pd.read_csv ('https://raw.githubusercontent.com/leticia-oliveira/Exercicios-de-APC-UnB/main/dashboard/datasets/medalhaspaises.csv')\n",
        "dados = df.values.tolist()#enumera as células como lista\n",
        "\n",
        "#prepara uma lista para receber os valores de *continentes, *medalhas de ouro, *prata e *bronze\n",
        "c = [] \n",
        "o = []\n",
        "p = []\n",
        "b = []\n",
        "\n",
        "#laço de repetição que coleta os dados da planilha e \"entrega\" eles para as listas\n",
        "for cell in dados: \n",
        "  continent = cell[17]\n",
        "  ouro = int(df.loc[df['continente']==continent]['total_gold'].sum())#reúne os dados de cada continente\n",
        "  prata = df.loc[df['continente']==continent]['total_silver'].sum()#reúne os dados de cada continente\n",
        "  bronze = df.loc[df['continente']==continent]['total_bronze'].sum()#reúne os dados de cada continente\n",
        "#coloca os dados coletados em suas respectivas listas, sem repetí-los\n",
        "  if cell[17] not in c:\n",
        "    c.append(cell[17])\n",
        "  if ouro not in o:\n",
        "    o.append(ouro)\n",
        "  if prata not in p:\n",
        "    p.append(prata)\n",
        "  if bronze not in b:\n",
        "    b.append(bronze)\n",
        "\n",
        "#define o formato do gráfico\n",
        "fig = px.bar(template=\"plotly_white\", barmode='group')\n",
        "#adiciona cada barra do gráfico\n",
        "fig.add_trace(go.Bar(x=c, y=p, name='Medalhas de prata', marker_color='#BBBFC9', text = p, texttemplate = '%{text:.2s}', textposition='outside'))\n",
        "fig.add_trace(go.Bar(x=c, y=o, name='Medalhas de ouro', marker_color='#FFDF00', text = o, texttemplate = '%{text:.2s}', textposition='outside'))\n",
        "fig.add_trace(go.Bar(x=c, y=b, name='Medalhas de bronze', marker_color='#FFA366', text = b, texttemplate = '%{text:.2s}', textposition='outside'))\n",
        "\n",
        "#edita a aparência do gráfico\n",
        "fig.add_layout_image(\n",
        "        x=0.25,\n",
        "        sizex=4500,\n",
        "        y=4590,\n",
        "        sizey=4500,\n",
        "        xref=\"x\",\n",
        "        yref=\"y\",\n",
        "        opacity=0.3,\n",
        "        layer=\"below\",\n",
        "        source=\"https://cdn-icons-png.flaticon.com/512/523/523676.png\"#imagem das olimpíadas\n",
        "    )\n",
        "fig.update_layout(\n",
        "    title = 'Continentes e suas medalhas olímpicas',\n",
        "    xaxis_tickfont_size=14,\n",
        "    yaxis=dict(title='Quantidade de medalhas', titlefont_size=16, tickfont_size=14\n",
        "    ),\n",
        "    legend=dict(\n",
        "        x=0.87, y=0.5\n",
        "    ),\n",
        "    barmode='group',\n",
        "    bargroupgap=0.1#espaço entre as barras do mesmo continente\n",
        "    )\n",
        "fig.show()"
      ]
    },
    {
      "cell_type": "markdown",
      "metadata": {
        "id": "w1UHElBN3xyI"
      },
      "source": [
        "##Gráfico 03: 15 países com mais medalhas de ouro\n",
        "\n",
        "O gráfico abaixo apresenta o total de medalhas de ouro dos 15 países com mais medalhas de ouro desde 1896.\n",
        "\n"
      ]
    },
    {
      "cell_type": "code",
      "execution_count": 25,
      "metadata": {
        "colab": {
          "base_uri": "https://localhost:8080/",
          "height": 542
        },
        "id": "0Ikeeu2xBdDN",
        "outputId": "778129cb-eec9-4863-c6d7-5bdd326f122f"
      },
      "outputs": [
        {
          "data": {
            "application/vnd.plotly.v1+json": {
              "config": {
                "plotlyServerURL": "https://plot.ly"
              },
              "data": [
                {
                  "alignmentgroup": "True",
                  "hovertemplate": "<extra></extra>",
                  "legendgroup": "",
                  "marker": {
                    "color": "#636efa",
                    "pattern": {
                      "shape": ""
                    }
                  },
                  "name": "",
                  "offsetgroup": "",
                  "orientation": "v",
                  "showlegend": false,
                  "textposition": "auto",
                  "type": "bar",
                  "xaxis": "x",
                  "yaxis": "y"
                },
                {
                  "marker": {
                    "color": "#FFDF00",
                    "pattern": {
                      "shape": "x"
                    }
                  },
                  "name": "Medalhas de ouro",
                  "orientation": "h",
                  "text": [
                    "1173",
                    "473",
                    "305",
                    "296",
                    "284",
                    "264",
                    "259",
                    "213",
                    "210",
                    "195",
                    "192",
                    "186",
                    "183",
                    "170",
                    "148"
                  ],
                  "textposition": "outside",
                  "texttemplate": "%{text}",
                  "type": "bar",
                  "x": [
                    1173,
                    473,
                    305,
                    296,
                    284,
                    264,
                    259,
                    213,
                    210,
                    195,
                    192,
                    186,
                    183,
                    170,
                    148
                  ],
                  "y": [
                    "United States",
                    "Soviet Union",
                    "Germany",
                    "Great Britain",
                    "China",
                    "France",
                    "Italy",
                    "Sweden",
                    "Norway",
                    "Russia",
                    "East Germany",
                    "Japan",
                    "Hungary",
                    "Australia",
                    "Netherlands"
                  ]
                }
              ],
              "layout": {
                "barmode": "relative",
                "legend": {
                  "tracegroupgap": 0
                },
                "margin": {
                  "t": 60
                },
                "template": {
                  "data": {
                    "bar": [
                      {
                        "error_x": {
                          "color": "#2a3f5f"
                        },
                        "error_y": {
                          "color": "#2a3f5f"
                        },
                        "marker": {
                          "line": {
                            "color": "white",
                            "width": 0.5
                          },
                          "pattern": {
                            "fillmode": "overlay",
                            "size": 10,
                            "solidity": 0.2
                          }
                        },
                        "type": "bar"
                      }
                    ],
                    "barpolar": [
                      {
                        "marker": {
                          "line": {
                            "color": "white",
                            "width": 0.5
                          },
                          "pattern": {
                            "fillmode": "overlay",
                            "size": 10,
                            "solidity": 0.2
                          }
                        },
                        "type": "barpolar"
                      }
                    ],
                    "carpet": [
                      {
                        "aaxis": {
                          "endlinecolor": "#2a3f5f",
                          "gridcolor": "#C8D4E3",
                          "linecolor": "#C8D4E3",
                          "minorgridcolor": "#C8D4E3",
                          "startlinecolor": "#2a3f5f"
                        },
                        "baxis": {
                          "endlinecolor": "#2a3f5f",
                          "gridcolor": "#C8D4E3",
                          "linecolor": "#C8D4E3",
                          "minorgridcolor": "#C8D4E3",
                          "startlinecolor": "#2a3f5f"
                        },
                        "type": "carpet"
                      }
                    ],
                    "choropleth": [
                      {
                        "colorbar": {
                          "outlinewidth": 0,
                          "ticks": ""
                        },
                        "type": "choropleth"
                      }
                    ],
                    "contour": [
                      {
                        "colorbar": {
                          "outlinewidth": 0,
                          "ticks": ""
                        },
                        "colorscale": [
                          [
                            0,
                            "#0d0887"
                          ],
                          [
                            0.1111111111111111,
                            "#46039f"
                          ],
                          [
                            0.2222222222222222,
                            "#7201a8"
                          ],
                          [
                            0.3333333333333333,
                            "#9c179e"
                          ],
                          [
                            0.4444444444444444,
                            "#bd3786"
                          ],
                          [
                            0.5555555555555556,
                            "#d8576b"
                          ],
                          [
                            0.6666666666666666,
                            "#ed7953"
                          ],
                          [
                            0.7777777777777778,
                            "#fb9f3a"
                          ],
                          [
                            0.8888888888888888,
                            "#fdca26"
                          ],
                          [
                            1,
                            "#f0f921"
                          ]
                        ],
                        "type": "contour"
                      }
                    ],
                    "contourcarpet": [
                      {
                        "colorbar": {
                          "outlinewidth": 0,
                          "ticks": ""
                        },
                        "type": "contourcarpet"
                      }
                    ],
                    "heatmap": [
                      {
                        "colorbar": {
                          "outlinewidth": 0,
                          "ticks": ""
                        },
                        "colorscale": [
                          [
                            0,
                            "#0d0887"
                          ],
                          [
                            0.1111111111111111,
                            "#46039f"
                          ],
                          [
                            0.2222222222222222,
                            "#7201a8"
                          ],
                          [
                            0.3333333333333333,
                            "#9c179e"
                          ],
                          [
                            0.4444444444444444,
                            "#bd3786"
                          ],
                          [
                            0.5555555555555556,
                            "#d8576b"
                          ],
                          [
                            0.6666666666666666,
                            "#ed7953"
                          ],
                          [
                            0.7777777777777778,
                            "#fb9f3a"
                          ],
                          [
                            0.8888888888888888,
                            "#fdca26"
                          ],
                          [
                            1,
                            "#f0f921"
                          ]
                        ],
                        "type": "heatmap"
                      }
                    ],
                    "heatmapgl": [
                      {
                        "colorbar": {
                          "outlinewidth": 0,
                          "ticks": ""
                        },
                        "colorscale": [
                          [
                            0,
                            "#0d0887"
                          ],
                          [
                            0.1111111111111111,
                            "#46039f"
                          ],
                          [
                            0.2222222222222222,
                            "#7201a8"
                          ],
                          [
                            0.3333333333333333,
                            "#9c179e"
                          ],
                          [
                            0.4444444444444444,
                            "#bd3786"
                          ],
                          [
                            0.5555555555555556,
                            "#d8576b"
                          ],
                          [
                            0.6666666666666666,
                            "#ed7953"
                          ],
                          [
                            0.7777777777777778,
                            "#fb9f3a"
                          ],
                          [
                            0.8888888888888888,
                            "#fdca26"
                          ],
                          [
                            1,
                            "#f0f921"
                          ]
                        ],
                        "type": "heatmapgl"
                      }
                    ],
                    "histogram": [
                      {
                        "marker": {
                          "pattern": {
                            "fillmode": "overlay",
                            "size": 10,
                            "solidity": 0.2
                          }
                        },
                        "type": "histogram"
                      }
                    ],
                    "histogram2d": [
                      {
                        "colorbar": {
                          "outlinewidth": 0,
                          "ticks": ""
                        },
                        "colorscale": [
                          [
                            0,
                            "#0d0887"
                          ],
                          [
                            0.1111111111111111,
                            "#46039f"
                          ],
                          [
                            0.2222222222222222,
                            "#7201a8"
                          ],
                          [
                            0.3333333333333333,
                            "#9c179e"
                          ],
                          [
                            0.4444444444444444,
                            "#bd3786"
                          ],
                          [
                            0.5555555555555556,
                            "#d8576b"
                          ],
                          [
                            0.6666666666666666,
                            "#ed7953"
                          ],
                          [
                            0.7777777777777778,
                            "#fb9f3a"
                          ],
                          [
                            0.8888888888888888,
                            "#fdca26"
                          ],
                          [
                            1,
                            "#f0f921"
                          ]
                        ],
                        "type": "histogram2d"
                      }
                    ],
                    "histogram2dcontour": [
                      {
                        "colorbar": {
                          "outlinewidth": 0,
                          "ticks": ""
                        },
                        "colorscale": [
                          [
                            0,
                            "#0d0887"
                          ],
                          [
                            0.1111111111111111,
                            "#46039f"
                          ],
                          [
                            0.2222222222222222,
                            "#7201a8"
                          ],
                          [
                            0.3333333333333333,
                            "#9c179e"
                          ],
                          [
                            0.4444444444444444,
                            "#bd3786"
                          ],
                          [
                            0.5555555555555556,
                            "#d8576b"
                          ],
                          [
                            0.6666666666666666,
                            "#ed7953"
                          ],
                          [
                            0.7777777777777778,
                            "#fb9f3a"
                          ],
                          [
                            0.8888888888888888,
                            "#fdca26"
                          ],
                          [
                            1,
                            "#f0f921"
                          ]
                        ],
                        "type": "histogram2dcontour"
                      }
                    ],
                    "mesh3d": [
                      {
                        "colorbar": {
                          "outlinewidth": 0,
                          "ticks": ""
                        },
                        "type": "mesh3d"
                      }
                    ],
                    "parcoords": [
                      {
                        "line": {
                          "colorbar": {
                            "outlinewidth": 0,
                            "ticks": ""
                          }
                        },
                        "type": "parcoords"
                      }
                    ],
                    "pie": [
                      {
                        "automargin": true,
                        "type": "pie"
                      }
                    ],
                    "scatter": [
                      {
                        "fillpattern": {
                          "fillmode": "overlay",
                          "size": 10,
                          "solidity": 0.2
                        },
                        "type": "scatter"
                      }
                    ],
                    "scatter3d": [
                      {
                        "line": {
                          "colorbar": {
                            "outlinewidth": 0,
                            "ticks": ""
                          }
                        },
                        "marker": {
                          "colorbar": {
                            "outlinewidth": 0,
                            "ticks": ""
                          }
                        },
                        "type": "scatter3d"
                      }
                    ],
                    "scattercarpet": [
                      {
                        "marker": {
                          "colorbar": {
                            "outlinewidth": 0,
                            "ticks": ""
                          }
                        },
                        "type": "scattercarpet"
                      }
                    ],
                    "scattergeo": [
                      {
                        "marker": {
                          "colorbar": {
                            "outlinewidth": 0,
                            "ticks": ""
                          }
                        },
                        "type": "scattergeo"
                      }
                    ],
                    "scattergl": [
                      {
                        "marker": {
                          "colorbar": {
                            "outlinewidth": 0,
                            "ticks": ""
                          }
                        },
                        "type": "scattergl"
                      }
                    ],
                    "scattermapbox": [
                      {
                        "marker": {
                          "colorbar": {
                            "outlinewidth": 0,
                            "ticks": ""
                          }
                        },
                        "type": "scattermapbox"
                      }
                    ],
                    "scatterpolar": [
                      {
                        "marker": {
                          "colorbar": {
                            "outlinewidth": 0,
                            "ticks": ""
                          }
                        },
                        "type": "scatterpolar"
                      }
                    ],
                    "scatterpolargl": [
                      {
                        "marker": {
                          "colorbar": {
                            "outlinewidth": 0,
                            "ticks": ""
                          }
                        },
                        "type": "scatterpolargl"
                      }
                    ],
                    "scatterternary": [
                      {
                        "marker": {
                          "colorbar": {
                            "outlinewidth": 0,
                            "ticks": ""
                          }
                        },
                        "type": "scatterternary"
                      }
                    ],
                    "surface": [
                      {
                        "colorbar": {
                          "outlinewidth": 0,
                          "ticks": ""
                        },
                        "colorscale": [
                          [
                            0,
                            "#0d0887"
                          ],
                          [
                            0.1111111111111111,
                            "#46039f"
                          ],
                          [
                            0.2222222222222222,
                            "#7201a8"
                          ],
                          [
                            0.3333333333333333,
                            "#9c179e"
                          ],
                          [
                            0.4444444444444444,
                            "#bd3786"
                          ],
                          [
                            0.5555555555555556,
                            "#d8576b"
                          ],
                          [
                            0.6666666666666666,
                            "#ed7953"
                          ],
                          [
                            0.7777777777777778,
                            "#fb9f3a"
                          ],
                          [
                            0.8888888888888888,
                            "#fdca26"
                          ],
                          [
                            1,
                            "#f0f921"
                          ]
                        ],
                        "type": "surface"
                      }
                    ],
                    "table": [
                      {
                        "cells": {
                          "fill": {
                            "color": "#EBF0F8"
                          },
                          "line": {
                            "color": "white"
                          }
                        },
                        "header": {
                          "fill": {
                            "color": "#C8D4E3"
                          },
                          "line": {
                            "color": "white"
                          }
                        },
                        "type": "table"
                      }
                    ]
                  },
                  "layout": {
                    "annotationdefaults": {
                      "arrowcolor": "#2a3f5f",
                      "arrowhead": 0,
                      "arrowwidth": 1
                    },
                    "autotypenumbers": "strict",
                    "coloraxis": {
                      "colorbar": {
                        "outlinewidth": 0,
                        "ticks": ""
                      }
                    },
                    "colorscale": {
                      "diverging": [
                        [
                          0,
                          "#8e0152"
                        ],
                        [
                          0.1,
                          "#c51b7d"
                        ],
                        [
                          0.2,
                          "#de77ae"
                        ],
                        [
                          0.3,
                          "#f1b6da"
                        ],
                        [
                          0.4,
                          "#fde0ef"
                        ],
                        [
                          0.5,
                          "#f7f7f7"
                        ],
                        [
                          0.6,
                          "#e6f5d0"
                        ],
                        [
                          0.7,
                          "#b8e186"
                        ],
                        [
                          0.8,
                          "#7fbc41"
                        ],
                        [
                          0.9,
                          "#4d9221"
                        ],
                        [
                          1,
                          "#276419"
                        ]
                      ],
                      "sequential": [
                        [
                          0,
                          "#0d0887"
                        ],
                        [
                          0.1111111111111111,
                          "#46039f"
                        ],
                        [
                          0.2222222222222222,
                          "#7201a8"
                        ],
                        [
                          0.3333333333333333,
                          "#9c179e"
                        ],
                        [
                          0.4444444444444444,
                          "#bd3786"
                        ],
                        [
                          0.5555555555555556,
                          "#d8576b"
                        ],
                        [
                          0.6666666666666666,
                          "#ed7953"
                        ],
                        [
                          0.7777777777777778,
                          "#fb9f3a"
                        ],
                        [
                          0.8888888888888888,
                          "#fdca26"
                        ],
                        [
                          1,
                          "#f0f921"
                        ]
                      ],
                      "sequentialminus": [
                        [
                          0,
                          "#0d0887"
                        ],
                        [
                          0.1111111111111111,
                          "#46039f"
                        ],
                        [
                          0.2222222222222222,
                          "#7201a8"
                        ],
                        [
                          0.3333333333333333,
                          "#9c179e"
                        ],
                        [
                          0.4444444444444444,
                          "#bd3786"
                        ],
                        [
                          0.5555555555555556,
                          "#d8576b"
                        ],
                        [
                          0.6666666666666666,
                          "#ed7953"
                        ],
                        [
                          0.7777777777777778,
                          "#fb9f3a"
                        ],
                        [
                          0.8888888888888888,
                          "#fdca26"
                        ],
                        [
                          1,
                          "#f0f921"
                        ]
                      ]
                    },
                    "colorway": [
                      "#636efa",
                      "#EF553B",
                      "#00cc96",
                      "#ab63fa",
                      "#FFA15A",
                      "#19d3f3",
                      "#FF6692",
                      "#B6E880",
                      "#FF97FF",
                      "#FECB52"
                    ],
                    "font": {
                      "color": "#2a3f5f"
                    },
                    "geo": {
                      "bgcolor": "white",
                      "lakecolor": "white",
                      "landcolor": "white",
                      "showlakes": true,
                      "showland": true,
                      "subunitcolor": "#C8D4E3"
                    },
                    "hoverlabel": {
                      "align": "left"
                    },
                    "hovermode": "closest",
                    "mapbox": {
                      "style": "light"
                    },
                    "paper_bgcolor": "white",
                    "plot_bgcolor": "white",
                    "polar": {
                      "angularaxis": {
                        "gridcolor": "#EBF0F8",
                        "linecolor": "#EBF0F8",
                        "ticks": ""
                      },
                      "bgcolor": "white",
                      "radialaxis": {
                        "gridcolor": "#EBF0F8",
                        "linecolor": "#EBF0F8",
                        "ticks": ""
                      }
                    },
                    "scene": {
                      "xaxis": {
                        "backgroundcolor": "white",
                        "gridcolor": "#DFE8F3",
                        "gridwidth": 2,
                        "linecolor": "#EBF0F8",
                        "showbackground": true,
                        "ticks": "",
                        "zerolinecolor": "#EBF0F8"
                      },
                      "yaxis": {
                        "backgroundcolor": "white",
                        "gridcolor": "#DFE8F3",
                        "gridwidth": 2,
                        "linecolor": "#EBF0F8",
                        "showbackground": true,
                        "ticks": "",
                        "zerolinecolor": "#EBF0F8"
                      },
                      "zaxis": {
                        "backgroundcolor": "white",
                        "gridcolor": "#DFE8F3",
                        "gridwidth": 2,
                        "linecolor": "#EBF0F8",
                        "showbackground": true,
                        "ticks": "",
                        "zerolinecolor": "#EBF0F8"
                      }
                    },
                    "shapedefaults": {
                      "line": {
                        "color": "#2a3f5f"
                      }
                    },
                    "ternary": {
                      "aaxis": {
                        "gridcolor": "#DFE8F3",
                        "linecolor": "#A2B1C6",
                        "ticks": ""
                      },
                      "baxis": {
                        "gridcolor": "#DFE8F3",
                        "linecolor": "#A2B1C6",
                        "ticks": ""
                      },
                      "bgcolor": "white",
                      "caxis": {
                        "gridcolor": "#DFE8F3",
                        "linecolor": "#A2B1C6",
                        "ticks": ""
                      }
                    },
                    "title": {
                      "x": 0.05
                    },
                    "xaxis": {
                      "automargin": true,
                      "gridcolor": "#EBF0F8",
                      "linecolor": "#EBF0F8",
                      "ticks": "",
                      "title": {
                        "standoff": 15
                      },
                      "zerolinecolor": "#EBF0F8",
                      "zerolinewidth": 2
                    },
                    "yaxis": {
                      "automargin": true,
                      "gridcolor": "#EBF0F8",
                      "linecolor": "#EBF0F8",
                      "ticks": "",
                      "title": {
                        "standoff": 15
                      },
                      "zerolinecolor": "#EBF0F8",
                      "zerolinewidth": 2
                    }
                  }
                },
                "title": {
                  "text": "Os 15 países com mais medalhas de ouro"
                },
                "xaxis": {
                  "anchor": "y",
                  "domain": [
                    0,
                    1
                  ],
                  "tickfont": {
                    "size": 14
                  }
                },
                "yaxis": {
                  "anchor": "x",
                  "domain": [
                    0,
                    1
                  ],
                  "tickfont": {
                    "size": 14
                  },
                  "title": {
                    "font": {
                      "size": 16
                    },
                    "text": "Quantidade de medalhas"
                  }
                }
              }
            }
          },
          "metadata": {},
          "output_type": "display_data"
        }
      ],
      "source": [
        "import plotly.express as px\n",
        "import pandas as pd\n",
        "import plotly.graph_objects as go\n",
        "import plotly.io as pio\n",
        "\n",
        "#importa/lê a base de dados\n",
        "df = pd.read_csv ('https://raw.githubusercontent.com/leticia-oliveira/Exercicios-de-APC-UnB/main/dashboard/datasets/medalhaspaises.csv')\n",
        "df_ordenado = df.sort_values(by='total_gold', ascending=False)\n",
        "dados = df_ordenado.values.tolist()#enumera as células como lista\n",
        "\n",
        "\n",
        "#prepara uma lista para receber os valores de *países e *medalhas de ouro\n",
        "p = [] \n",
        "o = []\n",
        "\n",
        "#laço de repetição que coleta os dados da planilha e \"entrega\" eles para as listas\n",
        "for i in range(15):   #15 paises e 15 valores\n",
        "  p.append(dados[i][0]) #agrupando todos os paises\n",
        "  o.append(dados[i][-5]) #agrupando todos os valores de medalha\n",
        "\n",
        "fig = px.bar(template=\"plotly_white\")#define o formato do gráfico\n",
        "#adiciona cada barra do gráfico\n",
        "fig.add_trace(go.Bar(x=o, y=p, name='Medalhas de ouro', marker_color='#FFDF00',  marker_pattern_shape=\"x\", text = o, texttemplate = '%{text}', textposition='outside', orientation='h'))\n",
        "#edita a aparência do gráfico\n",
        "fig.update_layout(\n",
        "    title = 'Os 15 países com mais medalhas de ouro',\n",
        "    xaxis_tickfont_size=14,\n",
        "    yaxis=dict(title='Quantidade de medalhas', titlefont_size=16, tickfont_size=14\n",
        "    ),\n",
        ")\n",
        "\n",
        "fig.show()"
      ]
    },
    {
      "cell_type": "markdown",
      "metadata": {
        "id": "cn3HJghhwM81"
      },
      "source": [
        "## Gráfico 04: Número de medalhas de ouro, prata e bronze conquistadas pelo Brasil\n",
        "\n",
        "Este gráfico de barras apresenta informações sobre o número de medalhas de ouro, prata e bronze conquistadas pelo Brasil nos Jogos Olímpicos entre 1896 e 2016\n",
        "\n"
      ]
    },
    {
      "cell_type": "code",
      "execution_count": 11,
      "metadata": {
        "colab": {
          "base_uri": "https://localhost:8080/",
          "height": 542
        },
        "id": "wLp_4-uQ3xyP",
        "outputId": "2b866716-77fd-4759-9001-8caba075683d"
      },
      "outputs": [
        {
          "name": "stdout",
          "output_type": "stream",
          "text": [
            "1060\n",
            "[1060]\n"
          ]
        },
        {
          "data": {
            "application/vnd.plotly.v1+json": {
              "config": {
                "plotlyServerURL": "https://plot.ly"
              },
              "data": [
                {
                  "alignmentgroup": "True",
                  "hovertemplate": "<extra></extra>",
                  "legendgroup": "",
                  "marker": {
                    "color": "#636efa",
                    "pattern": {
                      "shape": ""
                    }
                  },
                  "name": "",
                  "offsetgroup": "",
                  "orientation": "v",
                  "showlegend": false,
                  "textposition": "auto",
                  "type": "bar",
                  "xaxis": "x",
                  "yaxis": "y"
                },
                {
                  "marker": {
                    "color": "#FFDF00"
                  },
                  "name": "Medalhas de Ouro",
                  "text": [
                    "1060"
                  ],
                  "textposition": "outside",
                  "texttemplate": "%{text:1.3s}",
                  "type": "bar",
                  "x": [
                    "Ouro"
                  ],
                  "y": [
                    1060
                  ]
                },
                {
                  "marker": {
                    "color": "#BBBFC9"
                  },
                  "name": "Medalhas de Prata",
                  "text": [
                    "831"
                  ],
                  "textposition": "outside",
                  "texttemplate": "%{text:.3s}",
                  "type": "bar",
                  "x": [
                    "Prata"
                  ],
                  "y": [
                    831
                  ]
                },
                {
                  "marker": {
                    "color": "#FFA366"
                  },
                  "name": "Medalhas de Bronze",
                  "text": [
                    "738"
                  ],
                  "textposition": "outside",
                  "texttemplate": "%{text:.3s}",
                  "type": "bar",
                  "x": [
                    "Bronze"
                  ],
                  "y": [
                    738
                  ]
                }
              ],
              "layout": {
                "barmode": "relative",
                "legend": {
                  "tracegroupgap": 0,
                  "x": 0,
                  "y": 1
                },
                "margin": {
                  "t": 60
                },
                "template": {
                  "data": {
                    "bar": [
                      {
                        "error_x": {
                          "color": "#2a3f5f"
                        },
                        "error_y": {
                          "color": "#2a3f5f"
                        },
                        "marker": {
                          "line": {
                            "color": "white",
                            "width": 0.5
                          },
                          "pattern": {
                            "fillmode": "overlay",
                            "size": 10,
                            "solidity": 0.2
                          }
                        },
                        "type": "bar"
                      }
                    ],
                    "barpolar": [
                      {
                        "marker": {
                          "line": {
                            "color": "white",
                            "width": 0.5
                          },
                          "pattern": {
                            "fillmode": "overlay",
                            "size": 10,
                            "solidity": 0.2
                          }
                        },
                        "type": "barpolar"
                      }
                    ],
                    "carpet": [
                      {
                        "aaxis": {
                          "endlinecolor": "#2a3f5f",
                          "gridcolor": "#C8D4E3",
                          "linecolor": "#C8D4E3",
                          "minorgridcolor": "#C8D4E3",
                          "startlinecolor": "#2a3f5f"
                        },
                        "baxis": {
                          "endlinecolor": "#2a3f5f",
                          "gridcolor": "#C8D4E3",
                          "linecolor": "#C8D4E3",
                          "minorgridcolor": "#C8D4E3",
                          "startlinecolor": "#2a3f5f"
                        },
                        "type": "carpet"
                      }
                    ],
                    "choropleth": [
                      {
                        "colorbar": {
                          "outlinewidth": 0,
                          "ticks": ""
                        },
                        "type": "choropleth"
                      }
                    ],
                    "contour": [
                      {
                        "colorbar": {
                          "outlinewidth": 0,
                          "ticks": ""
                        },
                        "colorscale": [
                          [
                            0,
                            "#0d0887"
                          ],
                          [
                            0.1111111111111111,
                            "#46039f"
                          ],
                          [
                            0.2222222222222222,
                            "#7201a8"
                          ],
                          [
                            0.3333333333333333,
                            "#9c179e"
                          ],
                          [
                            0.4444444444444444,
                            "#bd3786"
                          ],
                          [
                            0.5555555555555556,
                            "#d8576b"
                          ],
                          [
                            0.6666666666666666,
                            "#ed7953"
                          ],
                          [
                            0.7777777777777778,
                            "#fb9f3a"
                          ],
                          [
                            0.8888888888888888,
                            "#fdca26"
                          ],
                          [
                            1,
                            "#f0f921"
                          ]
                        ],
                        "type": "contour"
                      }
                    ],
                    "contourcarpet": [
                      {
                        "colorbar": {
                          "outlinewidth": 0,
                          "ticks": ""
                        },
                        "type": "contourcarpet"
                      }
                    ],
                    "heatmap": [
                      {
                        "colorbar": {
                          "outlinewidth": 0,
                          "ticks": ""
                        },
                        "colorscale": [
                          [
                            0,
                            "#0d0887"
                          ],
                          [
                            0.1111111111111111,
                            "#46039f"
                          ],
                          [
                            0.2222222222222222,
                            "#7201a8"
                          ],
                          [
                            0.3333333333333333,
                            "#9c179e"
                          ],
                          [
                            0.4444444444444444,
                            "#bd3786"
                          ],
                          [
                            0.5555555555555556,
                            "#d8576b"
                          ],
                          [
                            0.6666666666666666,
                            "#ed7953"
                          ],
                          [
                            0.7777777777777778,
                            "#fb9f3a"
                          ],
                          [
                            0.8888888888888888,
                            "#fdca26"
                          ],
                          [
                            1,
                            "#f0f921"
                          ]
                        ],
                        "type": "heatmap"
                      }
                    ],
                    "heatmapgl": [
                      {
                        "colorbar": {
                          "outlinewidth": 0,
                          "ticks": ""
                        },
                        "colorscale": [
                          [
                            0,
                            "#0d0887"
                          ],
                          [
                            0.1111111111111111,
                            "#46039f"
                          ],
                          [
                            0.2222222222222222,
                            "#7201a8"
                          ],
                          [
                            0.3333333333333333,
                            "#9c179e"
                          ],
                          [
                            0.4444444444444444,
                            "#bd3786"
                          ],
                          [
                            0.5555555555555556,
                            "#d8576b"
                          ],
                          [
                            0.6666666666666666,
                            "#ed7953"
                          ],
                          [
                            0.7777777777777778,
                            "#fb9f3a"
                          ],
                          [
                            0.8888888888888888,
                            "#fdca26"
                          ],
                          [
                            1,
                            "#f0f921"
                          ]
                        ],
                        "type": "heatmapgl"
                      }
                    ],
                    "histogram": [
                      {
                        "marker": {
                          "pattern": {
                            "fillmode": "overlay",
                            "size": 10,
                            "solidity": 0.2
                          }
                        },
                        "type": "histogram"
                      }
                    ],
                    "histogram2d": [
                      {
                        "colorbar": {
                          "outlinewidth": 0,
                          "ticks": ""
                        },
                        "colorscale": [
                          [
                            0,
                            "#0d0887"
                          ],
                          [
                            0.1111111111111111,
                            "#46039f"
                          ],
                          [
                            0.2222222222222222,
                            "#7201a8"
                          ],
                          [
                            0.3333333333333333,
                            "#9c179e"
                          ],
                          [
                            0.4444444444444444,
                            "#bd3786"
                          ],
                          [
                            0.5555555555555556,
                            "#d8576b"
                          ],
                          [
                            0.6666666666666666,
                            "#ed7953"
                          ],
                          [
                            0.7777777777777778,
                            "#fb9f3a"
                          ],
                          [
                            0.8888888888888888,
                            "#fdca26"
                          ],
                          [
                            1,
                            "#f0f921"
                          ]
                        ],
                        "type": "histogram2d"
                      }
                    ],
                    "histogram2dcontour": [
                      {
                        "colorbar": {
                          "outlinewidth": 0,
                          "ticks": ""
                        },
                        "colorscale": [
                          [
                            0,
                            "#0d0887"
                          ],
                          [
                            0.1111111111111111,
                            "#46039f"
                          ],
                          [
                            0.2222222222222222,
                            "#7201a8"
                          ],
                          [
                            0.3333333333333333,
                            "#9c179e"
                          ],
                          [
                            0.4444444444444444,
                            "#bd3786"
                          ],
                          [
                            0.5555555555555556,
                            "#d8576b"
                          ],
                          [
                            0.6666666666666666,
                            "#ed7953"
                          ],
                          [
                            0.7777777777777778,
                            "#fb9f3a"
                          ],
                          [
                            0.8888888888888888,
                            "#fdca26"
                          ],
                          [
                            1,
                            "#f0f921"
                          ]
                        ],
                        "type": "histogram2dcontour"
                      }
                    ],
                    "mesh3d": [
                      {
                        "colorbar": {
                          "outlinewidth": 0,
                          "ticks": ""
                        },
                        "type": "mesh3d"
                      }
                    ],
                    "parcoords": [
                      {
                        "line": {
                          "colorbar": {
                            "outlinewidth": 0,
                            "ticks": ""
                          }
                        },
                        "type": "parcoords"
                      }
                    ],
                    "pie": [
                      {
                        "automargin": true,
                        "type": "pie"
                      }
                    ],
                    "scatter": [
                      {
                        "fillpattern": {
                          "fillmode": "overlay",
                          "size": 10,
                          "solidity": 0.2
                        },
                        "type": "scatter"
                      }
                    ],
                    "scatter3d": [
                      {
                        "line": {
                          "colorbar": {
                            "outlinewidth": 0,
                            "ticks": ""
                          }
                        },
                        "marker": {
                          "colorbar": {
                            "outlinewidth": 0,
                            "ticks": ""
                          }
                        },
                        "type": "scatter3d"
                      }
                    ],
                    "scattercarpet": [
                      {
                        "marker": {
                          "colorbar": {
                            "outlinewidth": 0,
                            "ticks": ""
                          }
                        },
                        "type": "scattercarpet"
                      }
                    ],
                    "scattergeo": [
                      {
                        "marker": {
                          "colorbar": {
                            "outlinewidth": 0,
                            "ticks": ""
                          }
                        },
                        "type": "scattergeo"
                      }
                    ],
                    "scattergl": [
                      {
                        "marker": {
                          "colorbar": {
                            "outlinewidth": 0,
                            "ticks": ""
                          }
                        },
                        "type": "scattergl"
                      }
                    ],
                    "scattermapbox": [
                      {
                        "marker": {
                          "colorbar": {
                            "outlinewidth": 0,
                            "ticks": ""
                          }
                        },
                        "type": "scattermapbox"
                      }
                    ],
                    "scatterpolar": [
                      {
                        "marker": {
                          "colorbar": {
                            "outlinewidth": 0,
                            "ticks": ""
                          }
                        },
                        "type": "scatterpolar"
                      }
                    ],
                    "scatterpolargl": [
                      {
                        "marker": {
                          "colorbar": {
                            "outlinewidth": 0,
                            "ticks": ""
                          }
                        },
                        "type": "scatterpolargl"
                      }
                    ],
                    "scatterternary": [
                      {
                        "marker": {
                          "colorbar": {
                            "outlinewidth": 0,
                            "ticks": ""
                          }
                        },
                        "type": "scatterternary"
                      }
                    ],
                    "surface": [
                      {
                        "colorbar": {
                          "outlinewidth": 0,
                          "ticks": ""
                        },
                        "colorscale": [
                          [
                            0,
                            "#0d0887"
                          ],
                          [
                            0.1111111111111111,
                            "#46039f"
                          ],
                          [
                            0.2222222222222222,
                            "#7201a8"
                          ],
                          [
                            0.3333333333333333,
                            "#9c179e"
                          ],
                          [
                            0.4444444444444444,
                            "#bd3786"
                          ],
                          [
                            0.5555555555555556,
                            "#d8576b"
                          ],
                          [
                            0.6666666666666666,
                            "#ed7953"
                          ],
                          [
                            0.7777777777777778,
                            "#fb9f3a"
                          ],
                          [
                            0.8888888888888888,
                            "#fdca26"
                          ],
                          [
                            1,
                            "#f0f921"
                          ]
                        ],
                        "type": "surface"
                      }
                    ],
                    "table": [
                      {
                        "cells": {
                          "fill": {
                            "color": "#EBF0F8"
                          },
                          "line": {
                            "color": "white"
                          }
                        },
                        "header": {
                          "fill": {
                            "color": "#C8D4E3"
                          },
                          "line": {
                            "color": "white"
                          }
                        },
                        "type": "table"
                      }
                    ]
                  },
                  "layout": {
                    "annotationdefaults": {
                      "arrowcolor": "#2a3f5f",
                      "arrowhead": 0,
                      "arrowwidth": 1
                    },
                    "autotypenumbers": "strict",
                    "coloraxis": {
                      "colorbar": {
                        "outlinewidth": 0,
                        "ticks": ""
                      }
                    },
                    "colorscale": {
                      "diverging": [
                        [
                          0,
                          "#8e0152"
                        ],
                        [
                          0.1,
                          "#c51b7d"
                        ],
                        [
                          0.2,
                          "#de77ae"
                        ],
                        [
                          0.3,
                          "#f1b6da"
                        ],
                        [
                          0.4,
                          "#fde0ef"
                        ],
                        [
                          0.5,
                          "#f7f7f7"
                        ],
                        [
                          0.6,
                          "#e6f5d0"
                        ],
                        [
                          0.7,
                          "#b8e186"
                        ],
                        [
                          0.8,
                          "#7fbc41"
                        ],
                        [
                          0.9,
                          "#4d9221"
                        ],
                        [
                          1,
                          "#276419"
                        ]
                      ],
                      "sequential": [
                        [
                          0,
                          "#0d0887"
                        ],
                        [
                          0.1111111111111111,
                          "#46039f"
                        ],
                        [
                          0.2222222222222222,
                          "#7201a8"
                        ],
                        [
                          0.3333333333333333,
                          "#9c179e"
                        ],
                        [
                          0.4444444444444444,
                          "#bd3786"
                        ],
                        [
                          0.5555555555555556,
                          "#d8576b"
                        ],
                        [
                          0.6666666666666666,
                          "#ed7953"
                        ],
                        [
                          0.7777777777777778,
                          "#fb9f3a"
                        ],
                        [
                          0.8888888888888888,
                          "#fdca26"
                        ],
                        [
                          1,
                          "#f0f921"
                        ]
                      ],
                      "sequentialminus": [
                        [
                          0,
                          "#0d0887"
                        ],
                        [
                          0.1111111111111111,
                          "#46039f"
                        ],
                        [
                          0.2222222222222222,
                          "#7201a8"
                        ],
                        [
                          0.3333333333333333,
                          "#9c179e"
                        ],
                        [
                          0.4444444444444444,
                          "#bd3786"
                        ],
                        [
                          0.5555555555555556,
                          "#d8576b"
                        ],
                        [
                          0.6666666666666666,
                          "#ed7953"
                        ],
                        [
                          0.7777777777777778,
                          "#fb9f3a"
                        ],
                        [
                          0.8888888888888888,
                          "#fdca26"
                        ],
                        [
                          1,
                          "#f0f921"
                        ]
                      ]
                    },
                    "colorway": [
                      "#636efa",
                      "#EF553B",
                      "#00cc96",
                      "#ab63fa",
                      "#FFA15A",
                      "#19d3f3",
                      "#FF6692",
                      "#B6E880",
                      "#FF97FF",
                      "#FECB52"
                    ],
                    "font": {
                      "color": "#2a3f5f"
                    },
                    "geo": {
                      "bgcolor": "white",
                      "lakecolor": "white",
                      "landcolor": "white",
                      "showlakes": true,
                      "showland": true,
                      "subunitcolor": "#C8D4E3"
                    },
                    "hoverlabel": {
                      "align": "left"
                    },
                    "hovermode": "closest",
                    "mapbox": {
                      "style": "light"
                    },
                    "paper_bgcolor": "white",
                    "plot_bgcolor": "white",
                    "polar": {
                      "angularaxis": {
                        "gridcolor": "#EBF0F8",
                        "linecolor": "#EBF0F8",
                        "ticks": ""
                      },
                      "bgcolor": "white",
                      "radialaxis": {
                        "gridcolor": "#EBF0F8",
                        "linecolor": "#EBF0F8",
                        "ticks": ""
                      }
                    },
                    "scene": {
                      "xaxis": {
                        "backgroundcolor": "white",
                        "gridcolor": "#DFE8F3",
                        "gridwidth": 2,
                        "linecolor": "#EBF0F8",
                        "showbackground": true,
                        "ticks": "",
                        "zerolinecolor": "#EBF0F8"
                      },
                      "yaxis": {
                        "backgroundcolor": "white",
                        "gridcolor": "#DFE8F3",
                        "gridwidth": 2,
                        "linecolor": "#EBF0F8",
                        "showbackground": true,
                        "ticks": "",
                        "zerolinecolor": "#EBF0F8"
                      },
                      "zaxis": {
                        "backgroundcolor": "white",
                        "gridcolor": "#DFE8F3",
                        "gridwidth": 2,
                        "linecolor": "#EBF0F8",
                        "showbackground": true,
                        "ticks": "",
                        "zerolinecolor": "#EBF0F8"
                      }
                    },
                    "shapedefaults": {
                      "line": {
                        "color": "#2a3f5f"
                      }
                    },
                    "ternary": {
                      "aaxis": {
                        "gridcolor": "#DFE8F3",
                        "linecolor": "#A2B1C6",
                        "ticks": ""
                      },
                      "baxis": {
                        "gridcolor": "#DFE8F3",
                        "linecolor": "#A2B1C6",
                        "ticks": ""
                      },
                      "bgcolor": "white",
                      "caxis": {
                        "gridcolor": "#DFE8F3",
                        "linecolor": "#A2B1C6",
                        "ticks": ""
                      }
                    },
                    "title": {
                      "x": 0.05
                    },
                    "xaxis": {
                      "automargin": true,
                      "gridcolor": "#EBF0F8",
                      "linecolor": "#EBF0F8",
                      "ticks": "",
                      "title": {
                        "standoff": 15
                      },
                      "zerolinecolor": "#EBF0F8",
                      "zerolinewidth": 2
                    },
                    "yaxis": {
                      "automargin": true,
                      "gridcolor": "#EBF0F8",
                      "linecolor": "#EBF0F8",
                      "ticks": "",
                      "title": {
                        "standoff": 15
                      },
                      "zerolinecolor": "#EBF0F8",
                      "zerolinewidth": 2
                    }
                  }
                },
                "title": {
                  "font": {
                    "size": 32
                  },
                  "text": "Medalhas Olímpicas conquistadas pelo EUA (1896-2016)"
                },
                "xaxis": {
                  "anchor": "y",
                  "domain": [
                    0,
                    1
                  ],
                  "tickfont": {
                    "size": 28
                  }
                },
                "yaxis": {
                  "anchor": "x",
                  "domain": [
                    0,
                    1
                  ],
                  "tickfont": {
                    "size": 18
                  },
                  "title": {
                    "font": {
                      "size": 28
                    },
                    "text": "Quantidade de Medalhas"
                  }
                }
              }
            }
          },
          "metadata": {},
          "output_type": "display_data"
        }
      ],
      "source": [
        "import pandas as pd\n",
        "import plotly.express as px\n",
        "import plotly.graph_objects as go\n",
        "import plotly.io as pio\n",
        "\n",
        "# Leitura do Dataframe\n",
        "data = pd.read_csv('./medalhaspaises.csv')\n",
        "df = pd.DataFrame(data)\n",
        "dados = df.values.tolist()\n",
        "\n",
        "sigla_pais = 'USA'\n",
        "\n",
        "def quadroMedalhas(nome_pais):\n",
        "  # Criação das variáveis\n",
        "  gold = []\n",
        "  silver = []\n",
        "  bronze = []\n",
        "  cat_gold = []\n",
        "  cat_silver = []\n",
        "  cat_bronze = []\n",
        "\n",
        "  # Estrutura de repetição que vai escanear o Dataframe e capturar os valores\n",
        "  for i in dados:\n",
        "    \n",
        "      if i[1] == sigla_pais:\n",
        "          sum_gold = i[3]\n",
        "          sum_silver = int(i[4])\n",
        "          sum_bronze = int(i[5])\n",
        "\n",
        "  # Tratamento dos dados para transformá-los em lista\n",
        "  print (sum_gold)\n",
        "  medalhas = sum_gold, sum_silver, sum_bronze\n",
        "  \n",
        "  lst_medalhas = list(medalhas)\n",
        "  return lst_medalhas\n",
        "\n",
        "lst_medalhas= quadroMedalhas(sigla_pais)\n",
        "  # Armazenamento dos dados capturados\n",
        "cat_medalhas = ['Ouro', 'Prata', 'Bronze']  \n",
        "gold = [lst_medalhas[0]]\n",
        "silver = [lst_medalhas[1]]\n",
        "bronze = [lst_medalhas[2]]\n",
        "cat_gold = [cat_medalhas[0]]\n",
        "cat_silver = [cat_medalhas[1]]\n",
        "cat_bronze = [cat_medalhas[2]]\n",
        "\n",
        "print(gold)\n",
        "\n",
        "fig = px.bar(template=\"plotly_white\")\n",
        "\n",
        "fig.add_trace(go.Bar(x=cat_gold, y=gold, name='Medalhas de Ouro', marker_color='#FFDF00', text = gold, texttemplate = '%{text:1.3s}', textposition='outside'))\n",
        "fig.add_trace(go.Bar(x=cat_silver, y=silver, name='Medalhas de Prata', marker_color='#BBBFC9', text = silver, texttemplate = '%{text:.3s}', textposition='outside'))\n",
        "fig.add_trace(go.Bar(x=cat_bronze, y=bronze, name='Medalhas de Bronze', marker_color='#FFA366', text = bronze, texttemplate = '%{text:.3s}', textposition='outside'))\n",
        "\n",
        "fig.update_layout(\n",
        "    title='Medalhas Olímpicas conquistadas pelo EUA (1896-2016)',\n",
        "    title_font_size=32,\n",
        "    xaxis_tickfont_size=28,\n",
        "    yaxis=dict(title='Quantidade de Medalhas', titlefont_size=28, tickfont_size=18\n",
        "    ),\n",
        "    legend=dict(\n",
        "        x=0, y=1.0\n",
        "    ))\n",
        "fig.show()"
      ]
    },
    {
      "cell_type": "markdown",
      "metadata": {
        "id": "mEomZTy2wEyv"
      },
      "source": [
        "##Gráfico 05: 15 esportes em que o Brasil mais conquistou medalhas\n",
        "Transparecer os dados sobre a quantidade de medalhas conquistadas em cada esporte pelo Brasil."
      ]
    },
    {
      "cell_type": "code",
      "execution_count": 24,
      "metadata": {
        "colab": {
          "base_uri": "https://localhost:8080/",
          "height": 542
        },
        "id": "bR3r6oFuwRD9",
        "outputId": "f76a7ea7-c5cd-4b73-dbd7-49c43f8419b2"
      },
      "outputs": [
        {
          "data": {
            "application/vnd.plotly.v1+json": {
              "config": {
                "plotlyServerURL": "https://plot.ly"
              },
              "data": [
                {
                  "alignmentgroup": "True",
                  "hovertemplate": "<extra></extra>",
                  "legendgroup": "",
                  "marker": {
                    "color": "#636efa",
                    "pattern": {
                      "shape": ""
                    }
                  },
                  "name": "",
                  "offsetgroup": "",
                  "orientation": "v",
                  "showlegend": false,
                  "textposition": "auto",
                  "type": "bar",
                  "xaxis": "x",
                  "yaxis": "y"
                },
                {
                  "marker": {
                    "color": "#FFDF00"
                  },
                  "name": "Medalhas de prata",
                  "text": [
                    "1",
                    "1",
                    "1",
                    "1",
                    "1",
                    "1",
                    "1",
                    "1",
                    "2",
                    "2",
                    "2",
                    "5",
                    "6",
                    "6",
                    "7",
                    "7",
                    "8",
                    "9",
                    "9",
                    "10",
                    "10",
                    "11",
                    "12",
                    "14",
                    "20",
                    "22",
                    "27",
                    "30",
                    "38",
                    "43",
                    "56",
                    "57",
                    "61",
                    "69"
                  ],
                  "textposition": "outside",
                  "texttemplate": "%{text:.2s}",
                  "type": "bar",
                  "x": [
                    "Cycling",
                    "Freestyle Skiing",
                    "Archery",
                    "Rowing",
                    "Wrestling",
                    "Taekwondo",
                    "Trampolining",
                    "Boxing",
                    "Fencing",
                    "Badminton",
                    "Judo",
                    "Athletics",
                    "Short Track Speed Skating",
                    "Table Tennis",
                    "Swimming",
                    "Shooting",
                    "Weightlifting",
                    "Gymnastics",
                    "Diving"
                  ],
                  "y": [
                    1,
                    1,
                    1,
                    1,
                    1,
                    1,
                    1,
                    1,
                    2,
                    2,
                    2,
                    5,
                    6,
                    6,
                    7,
                    7,
                    8,
                    9,
                    9,
                    10,
                    10,
                    11,
                    12,
                    14,
                    20,
                    22,
                    27,
                    30,
                    38,
                    43,
                    56,
                    57,
                    61,
                    69
                  ]
                }
              ],
              "layout": {
                "barmode": "relative",
                "images": [
                  {
                    "layer": "below",
                    "opacity": 0.3,
                    "sizex": 20,
                    "sizey": 20,
                    "source": "https://cdn-icons-png.flaticon.com/512/523/523676.png",
                    "x": 1.5,
                    "xref": "x",
                    "y": 25,
                    "yref": "y"
                  }
                ],
                "legend": {
                  "tracegroupgap": 0,
                  "x": 0.87,
                  "y": 0.5
                },
                "margin": {
                  "t": 60
                },
                "template": {
                  "data": {
                    "bar": [
                      {
                        "error_x": {
                          "color": "#2a3f5f"
                        },
                        "error_y": {
                          "color": "#2a3f5f"
                        },
                        "marker": {
                          "line": {
                            "color": "white",
                            "width": 0.5
                          },
                          "pattern": {
                            "fillmode": "overlay",
                            "size": 10,
                            "solidity": 0.2
                          }
                        },
                        "type": "bar"
                      }
                    ],
                    "barpolar": [
                      {
                        "marker": {
                          "line": {
                            "color": "white",
                            "width": 0.5
                          },
                          "pattern": {
                            "fillmode": "overlay",
                            "size": 10,
                            "solidity": 0.2
                          }
                        },
                        "type": "barpolar"
                      }
                    ],
                    "carpet": [
                      {
                        "aaxis": {
                          "endlinecolor": "#2a3f5f",
                          "gridcolor": "#C8D4E3",
                          "linecolor": "#C8D4E3",
                          "minorgridcolor": "#C8D4E3",
                          "startlinecolor": "#2a3f5f"
                        },
                        "baxis": {
                          "endlinecolor": "#2a3f5f",
                          "gridcolor": "#C8D4E3",
                          "linecolor": "#C8D4E3",
                          "minorgridcolor": "#C8D4E3",
                          "startlinecolor": "#2a3f5f"
                        },
                        "type": "carpet"
                      }
                    ],
                    "choropleth": [
                      {
                        "colorbar": {
                          "outlinewidth": 0,
                          "ticks": ""
                        },
                        "type": "choropleth"
                      }
                    ],
                    "contour": [
                      {
                        "colorbar": {
                          "outlinewidth": 0,
                          "ticks": ""
                        },
                        "colorscale": [
                          [
                            0,
                            "#0d0887"
                          ],
                          [
                            0.1111111111111111,
                            "#46039f"
                          ],
                          [
                            0.2222222222222222,
                            "#7201a8"
                          ],
                          [
                            0.3333333333333333,
                            "#9c179e"
                          ],
                          [
                            0.4444444444444444,
                            "#bd3786"
                          ],
                          [
                            0.5555555555555556,
                            "#d8576b"
                          ],
                          [
                            0.6666666666666666,
                            "#ed7953"
                          ],
                          [
                            0.7777777777777778,
                            "#fb9f3a"
                          ],
                          [
                            0.8888888888888888,
                            "#fdca26"
                          ],
                          [
                            1,
                            "#f0f921"
                          ]
                        ],
                        "type": "contour"
                      }
                    ],
                    "contourcarpet": [
                      {
                        "colorbar": {
                          "outlinewidth": 0,
                          "ticks": ""
                        },
                        "type": "contourcarpet"
                      }
                    ],
                    "heatmap": [
                      {
                        "colorbar": {
                          "outlinewidth": 0,
                          "ticks": ""
                        },
                        "colorscale": [
                          [
                            0,
                            "#0d0887"
                          ],
                          [
                            0.1111111111111111,
                            "#46039f"
                          ],
                          [
                            0.2222222222222222,
                            "#7201a8"
                          ],
                          [
                            0.3333333333333333,
                            "#9c179e"
                          ],
                          [
                            0.4444444444444444,
                            "#bd3786"
                          ],
                          [
                            0.5555555555555556,
                            "#d8576b"
                          ],
                          [
                            0.6666666666666666,
                            "#ed7953"
                          ],
                          [
                            0.7777777777777778,
                            "#fb9f3a"
                          ],
                          [
                            0.8888888888888888,
                            "#fdca26"
                          ],
                          [
                            1,
                            "#f0f921"
                          ]
                        ],
                        "type": "heatmap"
                      }
                    ],
                    "heatmapgl": [
                      {
                        "colorbar": {
                          "outlinewidth": 0,
                          "ticks": ""
                        },
                        "colorscale": [
                          [
                            0,
                            "#0d0887"
                          ],
                          [
                            0.1111111111111111,
                            "#46039f"
                          ],
                          [
                            0.2222222222222222,
                            "#7201a8"
                          ],
                          [
                            0.3333333333333333,
                            "#9c179e"
                          ],
                          [
                            0.4444444444444444,
                            "#bd3786"
                          ],
                          [
                            0.5555555555555556,
                            "#d8576b"
                          ],
                          [
                            0.6666666666666666,
                            "#ed7953"
                          ],
                          [
                            0.7777777777777778,
                            "#fb9f3a"
                          ],
                          [
                            0.8888888888888888,
                            "#fdca26"
                          ],
                          [
                            1,
                            "#f0f921"
                          ]
                        ],
                        "type": "heatmapgl"
                      }
                    ],
                    "histogram": [
                      {
                        "marker": {
                          "pattern": {
                            "fillmode": "overlay",
                            "size": 10,
                            "solidity": 0.2
                          }
                        },
                        "type": "histogram"
                      }
                    ],
                    "histogram2d": [
                      {
                        "colorbar": {
                          "outlinewidth": 0,
                          "ticks": ""
                        },
                        "colorscale": [
                          [
                            0,
                            "#0d0887"
                          ],
                          [
                            0.1111111111111111,
                            "#46039f"
                          ],
                          [
                            0.2222222222222222,
                            "#7201a8"
                          ],
                          [
                            0.3333333333333333,
                            "#9c179e"
                          ],
                          [
                            0.4444444444444444,
                            "#bd3786"
                          ],
                          [
                            0.5555555555555556,
                            "#d8576b"
                          ],
                          [
                            0.6666666666666666,
                            "#ed7953"
                          ],
                          [
                            0.7777777777777778,
                            "#fb9f3a"
                          ],
                          [
                            0.8888888888888888,
                            "#fdca26"
                          ],
                          [
                            1,
                            "#f0f921"
                          ]
                        ],
                        "type": "histogram2d"
                      }
                    ],
                    "histogram2dcontour": [
                      {
                        "colorbar": {
                          "outlinewidth": 0,
                          "ticks": ""
                        },
                        "colorscale": [
                          [
                            0,
                            "#0d0887"
                          ],
                          [
                            0.1111111111111111,
                            "#46039f"
                          ],
                          [
                            0.2222222222222222,
                            "#7201a8"
                          ],
                          [
                            0.3333333333333333,
                            "#9c179e"
                          ],
                          [
                            0.4444444444444444,
                            "#bd3786"
                          ],
                          [
                            0.5555555555555556,
                            "#d8576b"
                          ],
                          [
                            0.6666666666666666,
                            "#ed7953"
                          ],
                          [
                            0.7777777777777778,
                            "#fb9f3a"
                          ],
                          [
                            0.8888888888888888,
                            "#fdca26"
                          ],
                          [
                            1,
                            "#f0f921"
                          ]
                        ],
                        "type": "histogram2dcontour"
                      }
                    ],
                    "mesh3d": [
                      {
                        "colorbar": {
                          "outlinewidth": 0,
                          "ticks": ""
                        },
                        "type": "mesh3d"
                      }
                    ],
                    "parcoords": [
                      {
                        "line": {
                          "colorbar": {
                            "outlinewidth": 0,
                            "ticks": ""
                          }
                        },
                        "type": "parcoords"
                      }
                    ],
                    "pie": [
                      {
                        "automargin": true,
                        "type": "pie"
                      }
                    ],
                    "scatter": [
                      {
                        "fillpattern": {
                          "fillmode": "overlay",
                          "size": 10,
                          "solidity": 0.2
                        },
                        "type": "scatter"
                      }
                    ],
                    "scatter3d": [
                      {
                        "line": {
                          "colorbar": {
                            "outlinewidth": 0,
                            "ticks": ""
                          }
                        },
                        "marker": {
                          "colorbar": {
                            "outlinewidth": 0,
                            "ticks": ""
                          }
                        },
                        "type": "scatter3d"
                      }
                    ],
                    "scattercarpet": [
                      {
                        "marker": {
                          "colorbar": {
                            "outlinewidth": 0,
                            "ticks": ""
                          }
                        },
                        "type": "scattercarpet"
                      }
                    ],
                    "scattergeo": [
                      {
                        "marker": {
                          "colorbar": {
                            "outlinewidth": 0,
                            "ticks": ""
                          }
                        },
                        "type": "scattergeo"
                      }
                    ],
                    "scattergl": [
                      {
                        "marker": {
                          "colorbar": {
                            "outlinewidth": 0,
                            "ticks": ""
                          }
                        },
                        "type": "scattergl"
                      }
                    ],
                    "scattermapbox": [
                      {
                        "marker": {
                          "colorbar": {
                            "outlinewidth": 0,
                            "ticks": ""
                          }
                        },
                        "type": "scattermapbox"
                      }
                    ],
                    "scatterpolar": [
                      {
                        "marker": {
                          "colorbar": {
                            "outlinewidth": 0,
                            "ticks": ""
                          }
                        },
                        "type": "scatterpolar"
                      }
                    ],
                    "scatterpolargl": [
                      {
                        "marker": {
                          "colorbar": {
                            "outlinewidth": 0,
                            "ticks": ""
                          }
                        },
                        "type": "scatterpolargl"
                      }
                    ],
                    "scatterternary": [
                      {
                        "marker": {
                          "colorbar": {
                            "outlinewidth": 0,
                            "ticks": ""
                          }
                        },
                        "type": "scatterternary"
                      }
                    ],
                    "surface": [
                      {
                        "colorbar": {
                          "outlinewidth": 0,
                          "ticks": ""
                        },
                        "colorscale": [
                          [
                            0,
                            "#0d0887"
                          ],
                          [
                            0.1111111111111111,
                            "#46039f"
                          ],
                          [
                            0.2222222222222222,
                            "#7201a8"
                          ],
                          [
                            0.3333333333333333,
                            "#9c179e"
                          ],
                          [
                            0.4444444444444444,
                            "#bd3786"
                          ],
                          [
                            0.5555555555555556,
                            "#d8576b"
                          ],
                          [
                            0.6666666666666666,
                            "#ed7953"
                          ],
                          [
                            0.7777777777777778,
                            "#fb9f3a"
                          ],
                          [
                            0.8888888888888888,
                            "#fdca26"
                          ],
                          [
                            1,
                            "#f0f921"
                          ]
                        ],
                        "type": "surface"
                      }
                    ],
                    "table": [
                      {
                        "cells": {
                          "fill": {
                            "color": "#EBF0F8"
                          },
                          "line": {
                            "color": "white"
                          }
                        },
                        "header": {
                          "fill": {
                            "color": "#C8D4E3"
                          },
                          "line": {
                            "color": "white"
                          }
                        },
                        "type": "table"
                      }
                    ]
                  },
                  "layout": {
                    "annotationdefaults": {
                      "arrowcolor": "#2a3f5f",
                      "arrowhead": 0,
                      "arrowwidth": 1
                    },
                    "autotypenumbers": "strict",
                    "coloraxis": {
                      "colorbar": {
                        "outlinewidth": 0,
                        "ticks": ""
                      }
                    },
                    "colorscale": {
                      "diverging": [
                        [
                          0,
                          "#8e0152"
                        ],
                        [
                          0.1,
                          "#c51b7d"
                        ],
                        [
                          0.2,
                          "#de77ae"
                        ],
                        [
                          0.3,
                          "#f1b6da"
                        ],
                        [
                          0.4,
                          "#fde0ef"
                        ],
                        [
                          0.5,
                          "#f7f7f7"
                        ],
                        [
                          0.6,
                          "#e6f5d0"
                        ],
                        [
                          0.7,
                          "#b8e186"
                        ],
                        [
                          0.8,
                          "#7fbc41"
                        ],
                        [
                          0.9,
                          "#4d9221"
                        ],
                        [
                          1,
                          "#276419"
                        ]
                      ],
                      "sequential": [
                        [
                          0,
                          "#0d0887"
                        ],
                        [
                          0.1111111111111111,
                          "#46039f"
                        ],
                        [
                          0.2222222222222222,
                          "#7201a8"
                        ],
                        [
                          0.3333333333333333,
                          "#9c179e"
                        ],
                        [
                          0.4444444444444444,
                          "#bd3786"
                        ],
                        [
                          0.5555555555555556,
                          "#d8576b"
                        ],
                        [
                          0.6666666666666666,
                          "#ed7953"
                        ],
                        [
                          0.7777777777777778,
                          "#fb9f3a"
                        ],
                        [
                          0.8888888888888888,
                          "#fdca26"
                        ],
                        [
                          1,
                          "#f0f921"
                        ]
                      ],
                      "sequentialminus": [
                        [
                          0,
                          "#0d0887"
                        ],
                        [
                          0.1111111111111111,
                          "#46039f"
                        ],
                        [
                          0.2222222222222222,
                          "#7201a8"
                        ],
                        [
                          0.3333333333333333,
                          "#9c179e"
                        ],
                        [
                          0.4444444444444444,
                          "#bd3786"
                        ],
                        [
                          0.5555555555555556,
                          "#d8576b"
                        ],
                        [
                          0.6666666666666666,
                          "#ed7953"
                        ],
                        [
                          0.7777777777777778,
                          "#fb9f3a"
                        ],
                        [
                          0.8888888888888888,
                          "#fdca26"
                        ],
                        [
                          1,
                          "#f0f921"
                        ]
                      ]
                    },
                    "colorway": [
                      "#636efa",
                      "#EF553B",
                      "#00cc96",
                      "#ab63fa",
                      "#FFA15A",
                      "#19d3f3",
                      "#FF6692",
                      "#B6E880",
                      "#FF97FF",
                      "#FECB52"
                    ],
                    "font": {
                      "color": "#2a3f5f"
                    },
                    "geo": {
                      "bgcolor": "white",
                      "lakecolor": "white",
                      "landcolor": "white",
                      "showlakes": true,
                      "showland": true,
                      "subunitcolor": "#C8D4E3"
                    },
                    "hoverlabel": {
                      "align": "left"
                    },
                    "hovermode": "closest",
                    "mapbox": {
                      "style": "light"
                    },
                    "paper_bgcolor": "white",
                    "plot_bgcolor": "white",
                    "polar": {
                      "angularaxis": {
                        "gridcolor": "#EBF0F8",
                        "linecolor": "#EBF0F8",
                        "ticks": ""
                      },
                      "bgcolor": "white",
                      "radialaxis": {
                        "gridcolor": "#EBF0F8",
                        "linecolor": "#EBF0F8",
                        "ticks": ""
                      }
                    },
                    "scene": {
                      "xaxis": {
                        "backgroundcolor": "white",
                        "gridcolor": "#DFE8F3",
                        "gridwidth": 2,
                        "linecolor": "#EBF0F8",
                        "showbackground": true,
                        "ticks": "",
                        "zerolinecolor": "#EBF0F8"
                      },
                      "yaxis": {
                        "backgroundcolor": "white",
                        "gridcolor": "#DFE8F3",
                        "gridwidth": 2,
                        "linecolor": "#EBF0F8",
                        "showbackground": true,
                        "ticks": "",
                        "zerolinecolor": "#EBF0F8"
                      },
                      "zaxis": {
                        "backgroundcolor": "white",
                        "gridcolor": "#DFE8F3",
                        "gridwidth": 2,
                        "linecolor": "#EBF0F8",
                        "showbackground": true,
                        "ticks": "",
                        "zerolinecolor": "#EBF0F8"
                      }
                    },
                    "shapedefaults": {
                      "line": {
                        "color": "#2a3f5f"
                      }
                    },
                    "ternary": {
                      "aaxis": {
                        "gridcolor": "#DFE8F3",
                        "linecolor": "#A2B1C6",
                        "ticks": ""
                      },
                      "baxis": {
                        "gridcolor": "#DFE8F3",
                        "linecolor": "#A2B1C6",
                        "ticks": ""
                      },
                      "bgcolor": "white",
                      "caxis": {
                        "gridcolor": "#DFE8F3",
                        "linecolor": "#A2B1C6",
                        "ticks": ""
                      }
                    },
                    "title": {
                      "x": 0.05
                    },
                    "xaxis": {
                      "automargin": true,
                      "gridcolor": "#EBF0F8",
                      "linecolor": "#EBF0F8",
                      "ticks": "",
                      "title": {
                        "standoff": 15
                      },
                      "zerolinecolor": "#EBF0F8",
                      "zerolinewidth": 2
                    },
                    "yaxis": {
                      "automargin": true,
                      "gridcolor": "#EBF0F8",
                      "linecolor": "#EBF0F8",
                      "ticks": "",
                      "title": {
                        "standoff": 15
                      },
                      "zerolinecolor": "#EBF0F8",
                      "zerolinewidth": 2
                    }
                  }
                },
                "title": {
                  "text": "15 esportes em que o Brasil mais conquistou medalhas"
                },
                "xaxis": {
                  "anchor": "y",
                  "domain": [
                    0,
                    1
                  ],
                  "tickfont": {
                    "size": 14
                  }
                },
                "yaxis": {
                  "anchor": "x",
                  "domain": [
                    0,
                    1
                  ],
                  "tickfont": {
                    "size": 14
                  },
                  "title": {
                    "font": {
                      "size": 16
                    },
                    "text": "Quantidade de medalhas"
                  }
                }
              }
            }
          },
          "metadata": {},
          "output_type": "display_data"
        }
      ],
      "source": [
        "import plotly.express as px\n",
        "import pandas as pd\n",
        "import plotly.graph_objects as go\n",
        "import plotly.io as pio\n",
        "\n",
        "data = pd.read_excel(\"https://github.com/VampiraoN/Pai-ta-on/blob/main/athlete_events.xlsx?raw=true\")\n",
        "df = pd.DataFrame(data)                     \n",
        "dados_ordenados = df.sort_values(['Year','Event'])                     \n",
        "dados = dados_ordenados.values.tolist()  # Para importar os dados e transformar em datafrmes e listas.\n",
        "\n",
        "# Criar arrays para guardar os dados que serão filtrados a seguir.\n",
        "sport = []\n",
        "medal = []  \n",
        "event = []\n",
        "game = []\n",
        "\n",
        "#função adiciona dados\n",
        "def adicionar_dados():\n",
        "  sport.append(cell[12])\n",
        "  game.append(cell[8])  \n",
        "  event.append(cell[13])  \n",
        "  medal.append(cell[-1])\n",
        "\n",
        "for cell in dados:\n",
        "  if cell[6] == 'China' and (cell[-1] == 'Gold' or cell[-1] == 'Silver' or cell[-1] == 'Bronze'):\n",
        "    if len(sport) > 0:\n",
        "        if cell[12] != sport[-1] or cell[8] != game[-1] or cell[13] != event[-1] or cell[-1] != medal[-1]:\n",
        "            adicionar_dados()     \n",
        "    else:                            # Armazenar os dados nos arrays a partir do resultado obtido ao filtrar suas colunas.\n",
        "            adicionar_dados()\n",
        "\n",
        "#Cria lista \n",
        "esportes = []\n",
        "num_de_medalhas = []\n",
        "\n",
        "\n",
        "\n",
        "for i in sport:               # Loop para fazer uma varredura pela lista e jogar\n",
        "    if i in esportes:         # os esportes e seu número de vitórias dentro das \n",
        "        x = esportes.index(i) # variáveis em suas respectivas posições.\n",
        "        num_de_medalhas[x] += 1\n",
        "    else:\n",
        "        esportes.append(i)\n",
        "        num_de_medalhas.append(0)\n",
        "        num_de_medalhas[-1] += 1\n",
        "\n",
        "\n",
        "##### Ordenando lista\n",
        "\n",
        "x = num_de_medalhas\n",
        "y = esportes\n",
        "\n",
        "# ordene os índices em vez dos elementos em si\n",
        "indices = list(range(len(x)))\n",
        "indices.sort(key=lambda i: x[i]) # ordene os índices com relação ao seu respectivo valor em x\n",
        "\n",
        "# crie as listas baseado na ordem dos índices\n",
        "new_x = [x[i] for i in indices]\n",
        "new_y = [y[i] for i in indices]\n",
        "\n",
        "#print(new_x) # [1, 2, 3, 3, 4, 4, 5, 5, 8, 10, 14, 15, 16, 18, 22]\n",
        "#print(new_y) # ['Modern Pentathlon', 'Taekwondo', 'Equestrianism', 'Canoeing', 'Shooting', 'Gymnastics']..\n",
        "\n",
        "num_de_medalhas = new_x\n",
        "esportes = new_y\n",
        "\n",
        "\n",
        "#define o formato do gráfico\n",
        "fig = px.bar(template=\"plotly_white\", barmode='relative')\n",
        "\n",
        "#adiciona as barras do gráfico\n",
        "fig.add_trace(go.Bar(x=esportes[15:] , y=num_de_medalhas, name='Medalhas de prata', marker_color='#FFDF00', text = num_de_medalhas, texttemplate = '%{text:.2s}', \n",
        "textposition = 'outside'))\n",
        "\n",
        "fig.update_layout(\n",
        "    title = '15 esportes em que o Brasil mais conquistou medalhas',\n",
        "    xaxis_tickfont_size=14,\n",
        "    yaxis=dict(title='Quantidade de medalhas', titlefont_size=16, tickfont_size=14\n",
        "    ),\n",
        "    legend=dict(x=0.87, y=0.5)\n",
        "     )\n",
        "fig.add_layout_image(\n",
        "        x=1.5,\n",
        "        sizex=20,\n",
        "        y=25,\n",
        "        sizey=20,\n",
        "        xref=\"x\",\n",
        "        yref=\"y\",\n",
        "        opacity=0.3,\n",
        "        layer=\"below\",\n",
        "        source=\"https://cdn-icons-png.flaticon.com/512/523/523676.png\"#imagem das olimpíadas\n",
        "    )\n",
        "fig.show()"
      ]
    },
    {
      "cell_type": "code",
      "execution_count": 1,
      "metadata": {
        "colab": {
          "base_uri": "https://localhost:8080/",
          "height": 542
        },
        "id": "bR3r6oFuwRD9",
        "outputId": "f76a7ea7-c5cd-4b73-dbd7-49c43f8419b2"
      },
      "outputs": [
        {
          "name": "stdout",
          "output_type": "stream",
          "text": [
            "Dash is running on http://127.0.0.1:8050/\n",
            "\n",
            " * Serving Flask app '__main__'\n",
            " * Debug mode: off\n"
          ]
        },
        {
          "name": "stderr",
          "output_type": "stream",
          "text": [
            "WARNING: This is a development server. Do not use it in a production deployment. Use a production WSGI server instead.\n",
            " * Running on http://127.0.0.1:8050\n",
            "Press CTRL+C to quit\n",
            "127.0.0.1 - - [15/Sep/2022 21:17:33] \"GET / HTTP/1.1\" 200 -\n",
            "127.0.0.1 - - [15/Sep/2022 21:17:36] \"GET /_dash-layout HTTP/1.1\" 200 -\n",
            "127.0.0.1 - - [15/Sep/2022 21:17:36] \"GET /_dash-dependencies HTTP/1.1\" 200 -\n",
            "127.0.0.1 - - [15/Sep/2022 21:17:36] \"GET /_favicon.ico?v=2.6.1 HTTP/1.1\" 200 -\n",
            "127.0.0.1 - - [15/Sep/2022 21:17:37] \"GET /_dash-component-suites/dash/dcc/async-dropdown.js HTTP/1.1\" 304 -\n",
            "127.0.0.1 - - [15/Sep/2022 21:17:38] \"GET /_dash-component-suites/dash/dcc/async-graph.js HTTP/1.1\" 304 -\n",
            "127.0.0.1 - - [15/Sep/2022 21:17:38] \"GET /_dash-component-suites/dash/dcc/async-plotlyjs.js HTTP/1.1\" 304 -\n",
            "127.0.0.1 - - [15/Sep/2022 21:17:38] \"POST /_dash-update-component HTTP/1.1\" 200 -\n",
            "127.0.0.1 - - [15/Sep/2022 21:17:38] \"POST /_dash-update-component HTTP/1.1\" 200 -\n",
            "127.0.0.1 - - [15/Sep/2022 21:17:44] \"GET / HTTP/1.1\" 200 -\n",
            "127.0.0.1 - - [15/Sep/2022 21:17:45] \"GET /_dash-layout HTTP/1.1\" 200 -\n",
            "127.0.0.1 - - [15/Sep/2022 21:17:45] \"GET /_dash-dependencies HTTP/1.1\" 200 -\n",
            "127.0.0.1 - - [15/Sep/2022 21:17:45] \"GET /_favicon.ico?v=2.6.1 HTTP/1.1\" 200 -\n",
            "127.0.0.1 - - [15/Sep/2022 21:17:45] \"GET /_dash-component-suites/dash/dcc/async-dropdown.js HTTP/1.1\" 304 -\n",
            "127.0.0.1 - - [15/Sep/2022 21:17:45] \"GET /_dash-component-suites/dash/dcc/async-graph.js HTTP/1.1\" 304 -\n",
            "127.0.0.1 - - [15/Sep/2022 21:17:46] \"GET /_dash-component-suites/dash/dcc/async-plotlyjs.js HTTP/1.1\" 304 -\n",
            "127.0.0.1 - - [15/Sep/2022 21:17:46] \"POST /_dash-update-component HTTP/1.1\" 200 -\n",
            "127.0.0.1 - - [15/Sep/2022 21:17:46] \"POST /_dash-update-component HTTP/1.1\" 200 -\n",
            "127.0.0.1 - - [15/Sep/2022 21:17:53] \"POST /_dash-update-component HTTP/1.1\" 200 -\n",
            "127.0.0.1 - - [15/Sep/2022 21:18:00] \"POST /_dash-update-component HTTP/1.1\" 200 -\n",
            "127.0.0.1 - - [15/Sep/2022 21:25:48] \"POST /_dash-update-component HTTP/1.1\" 200 -\n",
            "127.0.0.1 - - [15/Sep/2022 21:29:32] \"POST /_dash-update-component HTTP/1.1\" 200 -\n"
          ]
        }
      ],
      "source": [
        "import plotly.express as px\n",
        "import pandas as pd\n",
        "import plotly.graph_objects as go\n",
        "import plotly.io as pio\n",
        "\n",
        "from dash import Dash, dcc, html, Output, Input\n",
        "#leitura do dados do dataFrame\n",
        "data = pd.read_csv('./medalhaspaises.csv')\n",
        "df = pd.DataFrame(data)\n",
        "dados = df.values.tolist()\n",
        "\n",
        "# inicio do grafico PIZZA MEDALHAS DE TODOS \n",
        "\n",
        "def cria_grafico_pizza(edicao_olimpica):\n",
        "#criar listas\n",
        "    paises = []\n",
        "    valores = []\n",
        "    estrutura = []\n",
        "\n",
        "    #############VARIÁVEIS\n",
        "    listsummertot = []\n",
        "    listsummern = []\n",
        "    listwintertot = []\n",
        "    listwintern = []\n",
        "    estrutura2 = []\n",
        "    estrutura3 = []\n",
        "\n",
        "    def seleciona_valor(indice_estrutura): #buscando os valores de medalha relacionado a um pais\n",
        "        return indice_estrutura[1] \n",
        "\n",
        "    def seleciona_valor2(indice_estrutura):\n",
        "        return indice_estrutura[1]\n",
        "\n",
        "    def seleciona_valor3(indice_estrutura):\n",
        "        return indice_estrutura[1]\n",
        "\n",
        "    if edicao_olimpica == 'Todas':\n",
        "    \n",
        "        for coluna in dados:\n",
        "            pais_valor = []   #lista que armazena o pais e o valor da repetição da coluna\n",
        "            pais_valor.append(coluna[0]) #coluna de paises\n",
        "            pais_valor.append(coluna[-2]) #coluna de valores totais\n",
        "            estrutura.append(pais_valor) #lista de lista para armazenar pais e valor de todas iteraçoes\n",
        "                                    #para ordenar baseado no parametro valor mantendo a conexão com o n\n",
        "                #e retorna o valor de medalhas como um criterio de ordenaçao\n",
        "\n",
        "        estrutura.sort(reverse=True,key=seleciona_valor) #ordenando de forma decrescente atraves do atributo valor_total da lista\n",
        "\n",
        "        for i in range(15):   #15 paises e 1 se5 valores\n",
        "            paises.append(estrutura[i][0]) #agrupando todos os paises\n",
        "            valores.append(estrutura[i][1]) #agrupando todos os valores de medalha\n",
        "\n",
        "        grafico = px.pie(template=\"plotly_white\", values=valores, names=paises, title='15 países que mais conquistaram medalhas em todas as edições das Olimpíadas')\n",
        "\n",
        "############### GRAFICO DE OLIMIPADAS DE VERÃO - SUMMERTOT\n",
        "    if edicao_olimpica == 'Verão':\n",
        "\n",
        "        for coluna in dados:\n",
        "            pais_valor2 = []\n",
        "            pais_valor2.append(coluna[0])\n",
        "            pais_valor2.append(coluna[6])\n",
        "            estrutura2.append(pais_valor2)\n",
        "\n",
        "        estrutura2.sort(reverse=True, key=seleciona_valor2)\n",
        "\n",
        "        for i in range(15):\n",
        "            listsummern.append(estrutura2[i][0])\n",
        "            listsummertot.append(estrutura2[i][1])\n",
        "        grafico = px.pie(df, values=listsummertot, names=listsummern,\n",
        "                            hole=.2, color_discrete_sequence=px.colors.sequential.OrRd,title='15 países que mais conquistaram medalhas em edições de Verão das Olimpíadas')\n",
        "\n",
        "\n",
        "############### GRAFICO DE OLIMIPADAS DE INVERNO - SUMMERTOT\n",
        "    if edicao_olimpica == 'Inverno':\n",
        "        for coluna in dados:\n",
        "            pais_valor3 = []\n",
        "            pais_valor3.append(coluna[0])\n",
        "            pais_valor3.append(coluna[11])\n",
        "            estrutura3.append(pais_valor3)\n",
        "\n",
        "        estrutura3.sort(reverse=True, key=seleciona_valor3)\n",
        "\n",
        "        for i in range(15):\n",
        "            listwintern.append(estrutura3[i][0])\n",
        "            listwintertot.append(estrutura3[i][1])\n",
        "\n",
        "        grafico = px.pie(df, values=listwintertot, names=listwintern,\n",
        "                      hole=.2, color_discrete_sequence=px.colors.sequential.PuBu, title='15 países que mais conquistaram medalhas em edições de Inverno das Olimpíadas')\n",
        "       \n",
        "\n",
        "    return grafico \n",
        "################# FIM DO GRAFICO PIZZA\n",
        "\n",
        "\n",
        "opcoes_grafico_pizza = ['Inverno', 'Verão', 'Todas']\n",
        "\n",
        "\n",
        "#inicio do Grafico quadro de medalhas\n",
        "def list_siglas(): \n",
        "    list_sigla = []    \n",
        "    for coluna in dados:\n",
        "        #lista que armazena o pais e o valor da repetição da coluna\n",
        "      list_sigla.append(coluna[1]) \n",
        "    return list_sigla\n",
        "\n",
        "def name_pais(values):\n",
        "    nome_do_pais = ' '\n",
        "    for coluna in dados:\n",
        "      if coluna[1]==values:\n",
        "        nome_do_pais=coluna[0]\n",
        "\n",
        "    return nome_do_pais\n",
        "\n",
        "\n",
        "# Criar o opções da lista drop Down\n",
        "\n",
        "opcoes = list(list_siglas())\n",
        "opcoes.append(\"Todos\")\n",
        "\n",
        "\n",
        "\n",
        "\n",
        "def quadroMedalhas(nome_pais):\n",
        "  # Criação das variáveis\n",
        "  gold = []\n",
        "  silver = []\n",
        "  bronze = []\n",
        "  cat_gold = []\n",
        "  cat_silver = []\n",
        "  cat_bronze = []\n",
        "\n",
        "  # Estrutura de repetição que vai escanear o Dataframe e capturar os valores\n",
        "  for i in dados:\n",
        "      if i[0] == nome_pais:\n",
        "          sum_gold = int(i[3])\n",
        "          sum_silver = int(i[4])\n",
        "          sum_bronze = int(i[5])\n",
        "\n",
        "  # Tratamento dos dados para transformá-los em lista\n",
        "  medalhas = sum_gold, sum_silver, sum_bronze\n",
        "  \n",
        "  lst_medalhas = list(medalhas)\n",
        "  return lst_medalhas\n",
        "\n",
        "\n",
        "def cria_grafico_quadro_medalhas(value):\n",
        "    fig = px.bar(template=\"plotly_white\")\n",
        "    if value == \"Todos\":\n",
        "        lst_medalhas = quadroMedalhas('Brazil')\n",
        "    else:\n",
        "        lst_medalhas= quadroMedalhas(name_pais(value))\n",
        "        # Armazenamento dos dados capturados\n",
        "    cat_medalhas = ['Ouro', 'Prata', 'Bronze']  \n",
        "    gold = [lst_medalhas[0]]\n",
        "    silver = [lst_medalhas[1]]\n",
        "    bronze = [lst_medalhas[2]]\n",
        "    cat_gold = [cat_medalhas[0]]\n",
        "    cat_silver = [cat_medalhas[1]]\n",
        "    cat_bronze = [cat_medalhas[2]]\n",
        "\n",
        "\n",
        "    fig = px.bar(template=\"plotly_white\")\n",
        "\n",
        "    fig.add_trace(go.Bar(x=cat_gold, y=gold, name='Medalhas de Ouro', marker_color='#FFDF00', text = gold, texttemplate = '%{text:.2s}', textposition='outside'))\n",
        "    fig.add_trace(go.Bar(x=cat_silver, y=silver, name='Medalhas de Prata', marker_color='#BBBFC9', text = silver, texttemplate = '%{text:.2s}', textposition='outside'))\n",
        "    fig.add_trace(go.Bar(x=cat_bronze, y=bronze, name='Medalhas de Bronze', marker_color='#FFA366', text = bronze, texttemplate = '%{text:.2s}', textposition='outside'))\n",
        "\n",
        "    fig.update_layout(\n",
        "        title='Medalhas Olímpicas conquistadas pelo '+ name_pais(value)  +' (1896-2016)',\n",
        "            title_font_size=32,\n",
        "            xaxis_tickfont_size=28,\n",
        "            yaxis=dict(title='Quantidade de Medalhas', titlefont_size=28, tickfont_size=18\n",
        "            ),\n",
        "            legend=dict(\n",
        "                x=0, y=1.0\n",
        "            ))\n",
        "\n",
        "    return fig   \n",
        "\n",
        "\n",
        "\n",
        "# INICIO DO DASH\n",
        "app = Dash(__name__)\n",
        "\n",
        "colors = {\n",
        "    'background': '#fffff',\n",
        "    'text': '#7FDBFF'\n",
        "}\n",
        "\n",
        "# assume you have a \"long-form\" data frame\n",
        "# see https://plotly.com/python/px-arguments/ for more options\n",
        "\n",
        "fig = cria_grafico_quadro_medalhas(\"USA\")\n",
        "fig1 = cria_grafico_pizza('Todas')\n",
        "\n",
        "\n",
        "app.layout = html.Div(style={'backgroundColor': colors['background']}, children=[\n",
        "    html.H1(\n",
        "        children='Hello Dash',\n",
        "        style={\n",
        "            'textAlign': 'center',\n",
        "            'color': colors['text']\n",
        "        }\n",
        "    ),\n",
        "\n",
        "    html.Div(children='Dash: A web application framework for your data.', style={\n",
        "        'textAlign': 'center',\n",
        "        'color': colors['text']\n",
        "    }),\n",
        "\n",
        "   \n",
        "    dcc.Dropdown(opcoes_grafico_pizza,value='Verão', id='summ_wint'),\n",
        "    dcc.Graph(\n",
        "        id='grafico_setor',\n",
        "        figure=fig1),\n",
        "\n",
        "    dcc.Dropdown(opcoes, value='Todos', id='siglas_pais'),     \n",
        "\n",
        "    html.Div(children='Dash: Grafico de medalhas.', style={\n",
        "        'textAlign': 'center',\n",
        "        'color': colors['text']\n",
        "    }),\n",
        "\n",
        "    dcc.Graph(\n",
        "        id='quadro_de_medalhas',\n",
        "        figure=fig\n",
        "    )\n",
        "])\n",
        "\n",
        "@app.callback(\n",
        "    Output('quadro_de_medalhas', 'figure'),\n",
        "    Input('siglas_pais', 'value')\n",
        ")\n",
        "\n",
        "def update_output(value):\n",
        "    fig = cria_grafico_quadro_medalhas(value)\n",
        "    return fig\n",
        "\n",
        "@app.callback(\n",
        "          Output('grafico_setor', 'figure'),\n",
        "          Input('summ_wint', 'value')\n",
        "      )\n",
        "def update_output(value):\n",
        "\n",
        "    fig = cria_grafico_pizza(value)\n",
        "    return fig\n",
        "      \n",
        "        \n",
        "\n",
        "\n",
        "\n",
        "if __name__ == '__main__':\n",
        "    app.run_server(debug=False)"
      ]
    },
    {
      "cell_type": "markdown",
      "metadata": {
        "id": "wGoY27QpXn_Y"
      },
      "source": [
        "\n",
        "# Fontes:\n",
        "#### 120 anos de história olímpica:\n",
        "https://www.kaggle.com/datasets/mysarahmadbhat/120-years-of-olympic-history \n",
        "\n",
        "#### medalhas e esportes olímpicos:\n",
        "https://www.kaggle.com/datasets/the-guardian/olympic-games\n",
        "\n",
        "#### dados históricos das olimpíadas:\n",
        "https://www.kaggle.com/heesoo37/olympic-history-data-a-thorough-analysis\n",
        "\n",
        "#### Países com mais medalhas nas olimpíadas de inverno/verão (modelo de gráfico):\n",
        "https://plotly.com/python/pie-charts/\n",
        "Ou:\n",
        "https://plotly.com/python/histograms/\n",
        "\n",
        "#### Continentes com mais medalhistas:\n",
        "https://plotly.com/python/map-configuration/\n",
        "\n",
        "#### Países com mais medalhas de ouro:\n",
        "https://plotly.com/python/horizontal-bar-charts/\n",
        "\n",
        "\n",
        "#### Dashboard\n",
        "[Como publicar o seu dashboard usando o colab](https://fmarcelneves.medium.com/deploy-r%C3%A1pido-e-tempor%C3%A1rio-de-webapps-diretamente-do-google-colab-com-ngrok-e056b977c48a)\n"
      ]
    }
  ],
  "metadata": {
    "colab": {
      "collapsed_sections": [],
      "provenance": []
    },
    "kernelspec": {
      "display_name": "Python 3.10.2 64-bit",
      "language": "python",
      "name": "python3"
    },
    "language_info": {
      "codemirror_mode": {
        "name": "ipython",
        "version": 3
      },
      "file_extension": ".py",
      "mimetype": "text/x-python",
      "name": "python",
      "nbconvert_exporter": "python",
      "pygments_lexer": "ipython3",
      "version": "3.10.2"
    },
    "vscode": {
      "interpreter": {
        "hash": "8ae9711088421b1341f031a00464af5466ba930a0c6b61633a3f0368fb6933c3"
      }
    }
  },
  "nbformat": 4,
  "nbformat_minor": 0
}
